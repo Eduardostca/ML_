{
  "cells": [
    {
      "cell_type": "markdown",
      "metadata": {
        "id": "view-in-github",
        "colab_type": "text"
      },
      "source": [
        "<a href=\"https://colab.research.google.com/github/Eduardostca/ML_/blob/main/Graded_Lab_1_final_version.ipynb\" target=\"_parent\"><img src=\"https://colab.research.google.com/assets/colab-badge.svg\" alt=\"Open In Colab\"/></a>"
      ]
    },
    {
      "cell_type": "markdown",
      "metadata": {
        "tags": [],
        "id": "ItHB-5cH_4ZD"
      },
      "source": [
        "## DAB200 -- Graded Lab 1\n",
        "\n",
        "In this lab, you will gain some experience in **denoising** a dataset in the context of a specific objective. \n",
        "\n",
        "**Overall Objective**: Create a model that predicts rent prices as well as possible for typical New York City apartments."
      ]
    },
    {
      "cell_type": "markdown",
      "metadata": {
        "id": "Hwk1JRvV_4ZG"
      },
      "source": [
        "**Data set**: make sure you use the data with the same number as your group number!\n",
        "\n",
        "| Group | Data set |\n",
        "| :-: | :-: |\n",
        "| 1 | rent_1.csv |\n",
        "| 2 | rent_2.csv |\n",
        "| etc. | etc. |\n",
        "\n",
        "**Important Notes:**\n",
        " - This lab is more open-ended so be prepared to think on your own, in a logical way, in order to solve the problem at hand\n",
        "     - You should be able to support any decision you make with logical evidence\n",
        " - The data looks like the data we have been using in class but it has other **surprises**\n",
        "     - Be sure to investigate the data in a way that allows you to discover all these surprises\n",
        " - Use [Chapter 5](https://mlbook.explained.ai/prep.html) of the textbook as a **guide**, except:\n",
        "     - you only need to use **random forest** models;\n",
        "     - exclude Section 5.5; \n",
        " - Code submitted for this lab should be:\n",
        "     - error free\n",
        "         - to make sure this is the case, before submitting, close all Jupyter notebooks, exit Anaconda, reload the lab notebook and execute all cells\n",
        "     - final code\n",
        "         - this means that I don't want to see every piece of code you try as you work through this lab but only the final code; only the code that fulfills the objective\n",
        " - Use the **out-of-bag score** to evaluate models\n",
        "     - Read Section 5.2 carefully so that you use this method properly\n",
        "     - The oob score that you provide should be the average of 10 runs\n",
        " - Don't make assumptions!\n",
        "\n",
        "I have broken the lab down into 4 main parts. "
      ]
    },
    {
      "cell_type": "markdown",
      "metadata": {
        "id": "WkLv2Kp-_4ZH"
      },
      "source": [
        "### Part 0\n",
        "\n",
        "Please provide the following information:\n",
        " - Group Number: 001\n",
        " - Group Members\n",
        "     - Ricardo Savier Calleja Matos 0779957\n",
        "     - Cristian Elias Salinas Serrano 0810654\n",
        "     - Jose Calle Toro 0808574\n",
        "\n",
        "     "
      ]
    },
    {
      "cell_type": "markdown",
      "metadata": {
        "id": "ADrLgPn2_4ZI"
      },
      "source": [
        "### Part 1 - Create and evaluate an initial model\n",
        "\n",
        "#### Code (15 marks)"
      ]
    },
    {
      "cell_type": "code",
      "execution_count": null,
      "metadata": {
        "id": "mKqTU--N_4ZJ"
      },
      "outputs": [],
      "source": [
        "# Import libraries to be used\n",
        "\n",
        "import pandas as pd\n",
        "from sklearn.ensemble import RandomForestRegressor\n",
        "from sklearn.model_selection import train_test_split\n",
        "import numpy as np"
      ]
    },
    {
      "cell_type": "code",
      "execution_count": null,
      "metadata": {
        "id": "uYx4N8M3_4ZK",
        "outputId": "c164e31a-ff79-4224-8fd5-5cd6d26a941b"
      },
      "outputs": [
        {
          "name": "stdout",
          "output_type": "stream",
          "text": [
            "(20000, 16)\n"
          ]
        },
        {
          "data": {
            "text/html": [
              "<div>\n",
              "<style scoped>\n",
              "    .dataframe tbody tr th:only-of-type {\n",
              "        vertical-align: middle;\n",
              "    }\n",
              "\n",
              "    .dataframe tbody tr th {\n",
              "        vertical-align: top;\n",
              "    }\n",
              "\n",
              "    .dataframe thead th {\n",
              "        text-align: right;\n",
              "    }\n",
              "</style>\n",
              "<table border=\"1\" class=\"dataframe\">\n",
              "  <thead>\n",
              "    <tr style=\"text-align: right;\">\n",
              "      <th></th>\n",
              "      <th>bathrooms</th>\n",
              "      <th>bedrooms</th>\n",
              "      <th>building_id</th>\n",
              "      <th>created</th>\n",
              "      <th>description</th>\n",
              "      <th>display_address</th>\n",
              "      <th>features</th>\n",
              "      <th>latitude</th>\n",
              "      <th>longitude</th>\n",
              "      <th>manager_id</th>\n",
              "      <th>photos</th>\n",
              "      <th>price</th>\n",
              "      <th>street_address</th>\n",
              "      <th>interest_level</th>\n",
              "      <th>num_desc_words</th>\n",
              "      <th>mgr_apt_count</th>\n",
              "    </tr>\n",
              "  </thead>\n",
              "  <tbody>\n",
              "    <tr>\n",
              "      <th>0</th>\n",
              "      <td>1.0</td>\n",
              "      <td>0</td>\n",
              "      <td>0</td>\n",
              "      <td>2016-06-02 01:41:45</td>\n",
              "      <td>This studio apartment is located in a walk up ...</td>\n",
              "      <td>East 84th Street</td>\n",
              "      <td>['Dogs Allowed', 'Cats Allowed']</td>\n",
              "      <td>25.3295</td>\n",
              "      <td>-90.6525</td>\n",
              "      <td>8b53ccf4338806ab1be3dd0267711649</td>\n",
              "      <td>['https://photos.renthop.com/2/7095442_9566b34...</td>\n",
              "      <td>1875</td>\n",
              "      <td>326 East 84th Street</td>\n",
              "      <td>low</td>\n",
              "      <td>45</td>\n",
              "      <td>85</td>\n",
              "    </tr>\n",
              "    <tr>\n",
              "      <th>1</th>\n",
              "      <td>1.0</td>\n",
              "      <td>1</td>\n",
              "      <td>f1e6a98bbc638c6f7b6b260a9aaf9d48</td>\n",
              "      <td>2016-05-13 05:00:59</td>\n",
              "      <td>Stunning loft-like West Village 1 Bedroom flat...</td>\n",
              "      <td>Bleecker St.</td>\n",
              "      <td>['Garden/Patio', 'Dishwasher', 'Hardwood Floor...</td>\n",
              "      <td>40.7325</td>\n",
              "      <td>-74.0039</td>\n",
              "      <td>0b5cd828068acb8d8258c0a1566d2bc7</td>\n",
              "      <td>['https://photos.renthop.com/2/7007031_7004ad9...</td>\n",
              "      <td>4995</td>\n",
              "      <td>300 Bleecker St.</td>\n",
              "      <td>low</td>\n",
              "      <td>101</td>\n",
              "      <td>5</td>\n",
              "    </tr>\n",
              "  </tbody>\n",
              "</table>\n",
              "</div>"
            ],
            "text/plain": [
              "   bathrooms  bedrooms                       building_id              created  \\\n",
              "0        1.0         0                                 0  2016-06-02 01:41:45   \n",
              "1        1.0         1  f1e6a98bbc638c6f7b6b260a9aaf9d48  2016-05-13 05:00:59   \n",
              "\n",
              "                                         description   display_address  \\\n",
              "0  This studio apartment is located in a walk up ...  East 84th Street   \n",
              "1  Stunning loft-like West Village 1 Bedroom flat...      Bleecker St.   \n",
              "\n",
              "                                            features  latitude  longitude  \\\n",
              "0                   ['Dogs Allowed', 'Cats Allowed']   25.3295   -90.6525   \n",
              "1  ['Garden/Patio', 'Dishwasher', 'Hardwood Floor...   40.7325   -74.0039   \n",
              "\n",
              "                         manager_id  \\\n",
              "0  8b53ccf4338806ab1be3dd0267711649   \n",
              "1  0b5cd828068acb8d8258c0a1566d2bc7   \n",
              "\n",
              "                                              photos  price  \\\n",
              "0  ['https://photos.renthop.com/2/7095442_9566b34...   1875   \n",
              "1  ['https://photos.renthop.com/2/7007031_7004ad9...   4995   \n",
              "\n",
              "         street_address interest_level  num_desc_words  mgr_apt_count  \n",
              "0  326 East 84th Street            low              45             85  \n",
              "1      300 Bleecker St.            low             101              5  "
            ]
          },
          "execution_count": 2,
          "metadata": {},
          "output_type": "execute_result"
        }
      ],
      "source": [
        "# Load and preview dataset\n",
        "df = pd.read_csv(\"rent_1.csv\")\n",
        "print(df.shape) # print rows, columns\n",
        "df.head(2)       # dump first 2 rows"
      ]
    },
    {
      "cell_type": "code",
      "execution_count": null,
      "metadata": {
        "id": "XhtF32MU_4ZL",
        "outputId": "2c30c44c-2d00-4a47-f4ea-b2cf4f82d411"
      },
      "outputs": [
        {
          "data": {
            "text/html": [
              "<div>\n",
              "<style scoped>\n",
              "    .dataframe tbody tr th:only-of-type {\n",
              "        vertical-align: middle;\n",
              "    }\n",
              "\n",
              "    .dataframe tbody tr th {\n",
              "        vertical-align: top;\n",
              "    }\n",
              "\n",
              "    .dataframe thead th {\n",
              "        text-align: right;\n",
              "    }\n",
              "</style>\n",
              "<table border=\"1\" class=\"dataframe\">\n",
              "  <thead>\n",
              "    <tr style=\"text-align: right;\">\n",
              "      <th></th>\n",
              "      <th>bathrooms</th>\n",
              "      <th>bedrooms</th>\n",
              "      <th>longitude</th>\n",
              "      <th>latitude</th>\n",
              "      <th>price</th>\n",
              "    </tr>\n",
              "  </thead>\n",
              "  <tbody>\n",
              "    <tr>\n",
              "      <th>0</th>\n",
              "      <td>1.0</td>\n",
              "      <td>0</td>\n",
              "      <td>-90.6525</td>\n",
              "      <td>25.3295</td>\n",
              "      <td>1875</td>\n",
              "    </tr>\n",
              "    <tr>\n",
              "      <th>1</th>\n",
              "      <td>1.0</td>\n",
              "      <td>1</td>\n",
              "      <td>-74.0039</td>\n",
              "      <td>40.7325</td>\n",
              "      <td>4995</td>\n",
              "    </tr>\n",
              "  </tbody>\n",
              "</table>\n",
              "</div>"
            ],
            "text/plain": [
              "   bathrooms  bedrooms  longitude  latitude  price\n",
              "0        1.0         0   -90.6525   25.3295   1875\n",
              "1        1.0         1   -74.0039   40.7325   4995"
            ]
          },
          "execution_count": 3,
          "metadata": {},
          "output_type": "execute_result"
        }
      ],
      "source": [
        "# Select the relevant features on our dataset\n",
        "df_num = df[['bathrooms', 'bedrooms', 'longitude', 'latitude', 'price']]\n",
        "df_num.head(2)"
      ]
    },
    {
      "cell_type": "code",
      "execution_count": null,
      "metadata": {
        "id": "OQd9fbPa_4ZM"
      },
      "outputs": [],
      "source": [
        "# Separate the features and target columns.\n",
        "X_train = df_num.drop('price', axis=1)\n",
        "y_train = df_num['price']"
      ]
    },
    {
      "cell_type": "code",
      "execution_count": null,
      "metadata": {
        "id": "J3Wy63QI_4ZN",
        "outputId": "3d9a2b98-bf3b-408e-affc-5a3786db9455"
      },
      "outputs": [
        {
          "name": "stdout",
          "output_type": "stream",
          "text": [
            "OOB score -0.1191\n"
          ]
        }
      ],
      "source": [
        "#Create an initial model\n",
        "rf = RandomForestRegressor(n_estimators=100,\n",
        "                           n_jobs=-1,\n",
        "                           oob_score=True)   # get error estimate\n",
        "\n",
        "rf.fit(X_train, y_train)\n",
        "noisy_oob_r2 = rf.oob_score_\n",
        "print(f\"OOB score {noisy_oob_r2:.4f}\")"
      ]
    },
    {
      "cell_type": "code",
      "execution_count": null,
      "metadata": {
        "id": "794POFav_4ZN"
      },
      "outputs": [],
      "source": [
        "#This score is terrible therefore we proceed to denoise the data"
      ]
    },
    {
      "cell_type": "markdown",
      "metadata": {
        "id": "G51kI-Vz_4ZO"
      },
      "source": [
        "#### Explanation (5 marks)\n",
        "\n",
        "Please provide an explanation and justification for the code submitted in **Part 1** in the context of the overall objective. "
      ]
    },
    {
      "cell_type": "markdown",
      "metadata": {
        "id": "rJpx2e_V_4ZO"
      },
      "source": [
        "We imported the libraries to be used like pandas, sklearn and numpy. Then we loaded the dataset as a Dataframe from the csv file provided. After getting a preview of the data we selected what we considered were the relevant features ('bathrooms', 'bedrooms', 'longitude', 'latitude', 'price') where the price feature will be target. We trained our model using a Random Forest Regressor and selected the Out-of-Bag score. After evaluating our model with OOB score we noticed poor performance(-0.0749).\n",
        "\n"
      ]
    },
    {
      "cell_type": "markdown",
      "metadata": {
        "id": "I4HPUAhG_4ZO"
      },
      "source": [
        "### Part 2 - Denoise the data\n",
        "\n",
        "This section should only include the code necessary to **denoise** the data, NOT the code necessary to identify inconsistencies, problems, errors, etc. in the data. \n",
        "\n",
        "#### Code (25 marks)"
      ]
    },
    {
      "cell_type": "code",
      "execution_count": null,
      "metadata": {
        "id": "X1qtoGns_4ZP",
        "outputId": "6bf8a247-1e39-43d7-cf84-9f8d80ded8ce"
      },
      "outputs": [
        {
          "name": "stdout",
          "output_type": "stream",
          "text": [
            "0\n"
          ]
        }
      ],
      "source": [
        "# filter all asuming a rent price higher that 1k but lower thatn 10k\n",
        "df_clean = df_num[(df_num.price>1000) & (df_num.price<10000)]\n",
        "# Lets include only those apartment in within the following longitude 73.9844-73.9842 and Latitude value 40.764-40.7678\n",
        "df_clean = df_clean[(df_clean['latitude']>40.55) &\n",
        "                    (df_clean['latitude']<40.94) &\n",
        "                    (df_clean['longitude']>-74.1) &\n",
        "                    (df_clean['longitude']<-73.67)]\n",
        "\n",
        "#There are apartment with longitud 0, That is the line of Equator\n",
        "df_missing = df_clean[(df_clean.longitude==0) | (df_clean.latitude==0)]\n",
        "print(len(df_missing))"
      ]
    },
    {
      "cell_type": "markdown",
      "metadata": {
        "id": "vDaf9jkn_4ZP"
      },
      "source": [
        "### Part 3 - Create and evaluate a final model\n",
        "\n",
        "#### Code (15 marks)"
      ]
    },
    {
      "cell_type": "code",
      "execution_count": null,
      "metadata": {
        "id": "Ibukvu77_4ZQ",
        "outputId": "584d9a07-8812-4131-fd65-eb089cc7f28c"
      },
      "outputs": [
        {
          "name": "stdout",
          "output_type": "stream",
          "text": [
            "Average OOB score over 10 runs: 0.8165\n"
          ]
        }
      ],
      "source": [
        "# The oob score provided should be the average of 10 runs\n",
        "X, y = df_clean.drop('price', axis=1), df_clean['price']\n",
        "oob_scores = []\n",
        "for i in range(10):\n",
        "    rf = RandomForestRegressor(n_estimators=100,\n",
        "                               n_jobs=-1,        # parallelize\n",
        "                               oob_score=True)   # get error estimate\n",
        "    X_train, X_test, y_train, y_test =  train_test_split(X, y, test_size=0.20)\n",
        "    rf.fit(X, y)\n",
        "    oob_scores.append(rf.oob_score_)\n",
        "\n",
        "avg_oob_r2 = sum(oob_scores) / len(oob_scores)\n",
        "print(f\"Average OOB score over 10 runs: {avg_oob_r2:.4f}\")\n"
      ]
    },
    {
      "cell_type": "markdown",
      "metadata": {
        "id": "RS9N7eyh_4ZQ"
      },
      "source": [
        "#### Explanation (5 marks)\n",
        "\n",
        "Please provide an explanation and justification for the code submitted in **Part 3** in the context of the overall objective. "
      ]
    },
    {
      "cell_type": "markdown",
      "metadata": {
        "id": "u4HcHdDr_4ZQ"
      },
      "source": [
        "This code takes a cleaned dataset, considering only rent values in the range of 1k and 10k, excluding apartment with values of longitude or latitude equal to zero, as well as selecting only those apartment in within the following longitude 73.9844-73.9842 and Latitude value 40.764-40.7678. \n",
        "\n",
        "Adittionally on this model the data was split on test and train data, leaving 20% of values for testing the mnodel. A random forest regressor was created using  Sklearn RandomForestRegressor. Per project requirements a loop was created so OOB score could run 10 times and after that the average was reported."
      ]
    },
    {
      "cell_type": "markdown",
      "metadata": {
        "id": "Pcqq5jwj_4ZR"
      },
      "source": [
        "### Part 4 - Document the problems (35 marks)\n",
        "\n",
        "In this part, please use the table below to document your understanding of all the data issues you discovered. Note that **no code** should be included, as that should be covered in **Part 2**. Also, note that even if one line of code fixed a few problems, you should list each problem separately in the table below, so be sure you have investigated the data properly. For example, if the list `[-6, 5, 0, 50]` represents heights of adults, the -6, 0, and 50 would represent three data issues to be included in the table below, even though one line of code may be able to address all of them. \n",
        "\n",
        "| Data issue discovered | Why is this a problem? | How did you fix it? | Why is this fix appropriate? |\n",
        "| :- | :- | :- | :- | \n",
        "|  Apartments with latitud zero  | Because our scope is only New York City   | Select only apartment within the following area: latitude > 40.55 < 40.94) & longitude>-74.1<-73.67  | It limit our model to our area of study\n",
        "|  Rent prices  | There are unreasonable rental values, which deviate from the general objective of obtaining typical rental values in New York. | Select only apartments with values between 1000 USD to 10000 USD | This helps exclude unreasonable apartment rental values in New York.\n",
        "| Apartment in Ecuador | We are estimating the prices of apartments in New York. Having erroneous data would cause an error in our forecast. | We eliminate the departments that are supposedly located in Ecuador. | Eliminating erroneous data helps reduce the estimation error of the model. \n"
      ]
    }
  ],
  "metadata": {
    "kernelspec": {
      "display_name": "Python 3 (ipykernel)",
      "language": "python",
      "name": "python3"
    },
    "language_info": {
      "codemirror_mode": {
        "name": "ipython",
        "version": 3
      },
      "file_extension": ".py",
      "mimetype": "text/x-python",
      "name": "python",
      "nbconvert_exporter": "python",
      "pygments_lexer": "ipython3",
      "version": "3.10.8"
    },
    "colab": {
      "provenance": [],
      "include_colab_link": true
    }
  },
  "nbformat": 4,
  "nbformat_minor": 0
}