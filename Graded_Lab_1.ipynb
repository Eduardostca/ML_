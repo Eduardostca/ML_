{
  "cells": [
    {
      "cell_type": "markdown",
      "metadata": {
        "id": "view-in-github",
        "colab_type": "text"
      },
      "source": [
        "<a href=\"https://colab.research.google.com/github/Eduardostca/ML_/blob/main/Graded_Lab_1.ipynb\" target=\"_parent\"><img src=\"https://colab.research.google.com/assets/colab-badge.svg\" alt=\"Open In Colab\"/></a>"
      ]
    },
    {
      "cell_type": "markdown",
      "metadata": {
        "tags": [],
        "id": "AG77_38J7qez"
      },
      "source": [
        "## DAB200 -- Graded Lab 1\n",
        "\n",
        "In this lab, you will gain some experience in **denoising** a dataset in the context of a specific objective. \n",
        "\n",
        "**Overall Objective**: Create a model that predicts rent prices as well as possible for typical New York City apartments."
      ]
    },
    {
      "cell_type": "markdown",
      "metadata": {
        "id": "5KXM8UpN7qe2"
      },
      "source": [
        "**Data set**: make sure you use the data with the same number as your group number!\n",
        "\n",
        "| Group | Data set |\n",
        "| :-: | :-: |\n",
        "| 1 | rent_1.csv |\n",
        "| 2 | rent_2.csv |\n",
        "| etc. | etc. |\n",
        "\n",
        "**Important Notes:**\n",
        " - This lab is more open-ended so be prepared to think on your own, in a logical way, in order to solve the problem at hand\n",
        "     - You should be able to support any decision you make with logical evidence\n",
        " - The data looks like the data we have been using in class but it has other **surprises**\n",
        "     - Be sure to investigate the data in a way that allows you to discover all these surprises\n",
        " - Use [Chapter 5](https://mlbook.explained.ai/prep.html) of the textbook as a **guide**, except:\n",
        "     - you only need to use **random forest** models;\n",
        "     - exclude Section 5.5; \n",
        " - Code submitted for this lab should be:\n",
        "     - error free\n",
        "         - to make sure this is the case, before submitting, close all Jupyter notebooks, exit Anaconda, reload the lab notebook and execute all cells\n",
        "     - final code\n",
        "         - this means that I don't want to see every piece of code you try as you work through this lab but only the final code; only the code that fulfills the objective\n",
        " - Use the **out-of-bag score** to evaluate models\n",
        "     - Read Section 5.2 carefully so that you use this method properly\n",
        "     - The oob score that you provide should be the average of 10 runs\n",
        " - Don't make assumptions!\n",
        "\n",
        "I have broken the lab down into 4 main parts. "
      ]
    },
    {
      "cell_type": "markdown",
      "metadata": {
        "id": "7JD-W0M57qe3"
      },
      "source": [
        "### Part 0\n",
        "\n",
        "Please provide the following information:\n",
        " - Group Number: 14\n",
        " - Group Members: \n",
        "     - Noushin Asadsamani (0829532)\n",
        "     - Eduardo Chavez Barrientos (0828349)\n",
        "     - Prasanna Kumar Loganathan (---)\n",
        "\n",
        "     "
      ]
    },
    {
      "cell_type": "code",
      "execution_count": 74,
      "metadata": {
        "id": "3UNiyeLJ7qe4",
        "outputId": "108b18c0-2c49-46fe-d324-6b98108d5d9e",
        "colab": {
          "base_uri": "https://localhost:8080/"
        }
      },
      "outputs": [
        {
          "output_type": "execute_result",
          "data": {
            "text/plain": [
              "Index(['bathrooms', 'bedrooms', 'building_id', 'created', 'description',\n",
              "       'display_address', 'features', 'latitude', 'longitude', 'manager_id',\n",
              "       'photos', 'price', 'street_address', 'interest_level', 'num_desc_words',\n",
              "       'mgr_apt_count'],\n",
              "      dtype='object')"
            ]
          },
          "metadata": {},
          "execution_count": 74
        }
      ],
      "source": [
        "# Import the pandas library and load the dataset from a github repository: \n",
        "import pandas as pd\n",
        "rent_14 = pd.read_csv(\"https://github.com/Eduardostca/ML_/raw/main/rent_14.csv\")\n",
        "rent_14.columns"
      ]
    },
    {
      "cell_type": "code",
      "source": [
        "rent_14 = rent_14.drop(['building_id', 'created', 'description', 'display_address', 'features', 'manager_id', 'photos', 'street_address'], axis=1)\n",
        "rent_14"
      ],
      "metadata": {
        "colab": {
          "base_uri": "https://localhost:8080/",
          "height": 424
        },
        "id": "-FH6DSnuB6uu",
        "outputId": "ec79ba9e-6f6b-4e75-cd17-4510754c5a09"
      },
      "execution_count": 75,
      "outputs": [
        {
          "output_type": "execute_result",
          "data": {
            "text/plain": [
              "       bathrooms  bedrooms  latitude  longitude  price interest_level  \\\n",
              "0            1.0         2   40.7301   -73.9825   4295            low   \n",
              "1            2.0         3   40.6883   -73.9609   4695            low   \n",
              "2            2.0         3   40.7943   -73.9675   5950            low   \n",
              "3            1.0         1   40.6795   -73.9505   1550            low   \n",
              "4            2.0         4   40.7765   -73.9550   6100            low   \n",
              "...          ...       ...       ...        ...    ...            ...   \n",
              "19995        1.0         0   40.7520   -73.9946   3250            low   \n",
              "19996        1.0         2   40.7317   -73.9821   3250            low   \n",
              "19997        1.0         2   40.6682   -73.9801   3000            low   \n",
              "19998        2.0         1   40.7141   -74.0096   5166            low   \n",
              "19999        1.0         1   40.7156   -74.0100   4150            low   \n",
              "\n",
              "       num_desc_words  mgr_apt_count  \n",
              "0                 127             24  \n",
              "1                  46             52  \n",
              "2                  88             28  \n",
              "3                  40             15  \n",
              "4                  40             15  \n",
              "...               ...            ...  \n",
              "19995             158             34  \n",
              "19996             118             67  \n",
              "19997             103             26  \n",
              "19998               0            161  \n",
              "19999              74             39  \n",
              "\n",
              "[20000 rows x 8 columns]"
            ],
            "text/html": [
              "\n",
              "  <div id=\"df-9c4cc837-9e65-481e-9dc9-99495c1f1d68\">\n",
              "    <div class=\"colab-df-container\">\n",
              "      <div>\n",
              "<style scoped>\n",
              "    .dataframe tbody tr th:only-of-type {\n",
              "        vertical-align: middle;\n",
              "    }\n",
              "\n",
              "    .dataframe tbody tr th {\n",
              "        vertical-align: top;\n",
              "    }\n",
              "\n",
              "    .dataframe thead th {\n",
              "        text-align: right;\n",
              "    }\n",
              "</style>\n",
              "<table border=\"1\" class=\"dataframe\">\n",
              "  <thead>\n",
              "    <tr style=\"text-align: right;\">\n",
              "      <th></th>\n",
              "      <th>bathrooms</th>\n",
              "      <th>bedrooms</th>\n",
              "      <th>latitude</th>\n",
              "      <th>longitude</th>\n",
              "      <th>price</th>\n",
              "      <th>interest_level</th>\n",
              "      <th>num_desc_words</th>\n",
              "      <th>mgr_apt_count</th>\n",
              "    </tr>\n",
              "  </thead>\n",
              "  <tbody>\n",
              "    <tr>\n",
              "      <th>0</th>\n",
              "      <td>1.0</td>\n",
              "      <td>2</td>\n",
              "      <td>40.7301</td>\n",
              "      <td>-73.9825</td>\n",
              "      <td>4295</td>\n",
              "      <td>low</td>\n",
              "      <td>127</td>\n",
              "      <td>24</td>\n",
              "    </tr>\n",
              "    <tr>\n",
              "      <th>1</th>\n",
              "      <td>2.0</td>\n",
              "      <td>3</td>\n",
              "      <td>40.6883</td>\n",
              "      <td>-73.9609</td>\n",
              "      <td>4695</td>\n",
              "      <td>low</td>\n",
              "      <td>46</td>\n",
              "      <td>52</td>\n",
              "    </tr>\n",
              "    <tr>\n",
              "      <th>2</th>\n",
              "      <td>2.0</td>\n",
              "      <td>3</td>\n",
              "      <td>40.7943</td>\n",
              "      <td>-73.9675</td>\n",
              "      <td>5950</td>\n",
              "      <td>low</td>\n",
              "      <td>88</td>\n",
              "      <td>28</td>\n",
              "    </tr>\n",
              "    <tr>\n",
              "      <th>3</th>\n",
              "      <td>1.0</td>\n",
              "      <td>1</td>\n",
              "      <td>40.6795</td>\n",
              "      <td>-73.9505</td>\n",
              "      <td>1550</td>\n",
              "      <td>low</td>\n",
              "      <td>40</td>\n",
              "      <td>15</td>\n",
              "    </tr>\n",
              "    <tr>\n",
              "      <th>4</th>\n",
              "      <td>2.0</td>\n",
              "      <td>4</td>\n",
              "      <td>40.7765</td>\n",
              "      <td>-73.9550</td>\n",
              "      <td>6100</td>\n",
              "      <td>low</td>\n",
              "      <td>40</td>\n",
              "      <td>15</td>\n",
              "    </tr>\n",
              "    <tr>\n",
              "      <th>...</th>\n",
              "      <td>...</td>\n",
              "      <td>...</td>\n",
              "      <td>...</td>\n",
              "      <td>...</td>\n",
              "      <td>...</td>\n",
              "      <td>...</td>\n",
              "      <td>...</td>\n",
              "      <td>...</td>\n",
              "    </tr>\n",
              "    <tr>\n",
              "      <th>19995</th>\n",
              "      <td>1.0</td>\n",
              "      <td>0</td>\n",
              "      <td>40.7520</td>\n",
              "      <td>-73.9946</td>\n",
              "      <td>3250</td>\n",
              "      <td>low</td>\n",
              "      <td>158</td>\n",
              "      <td>34</td>\n",
              "    </tr>\n",
              "    <tr>\n",
              "      <th>19996</th>\n",
              "      <td>1.0</td>\n",
              "      <td>2</td>\n",
              "      <td>40.7317</td>\n",
              "      <td>-73.9821</td>\n",
              "      <td>3250</td>\n",
              "      <td>low</td>\n",
              "      <td>118</td>\n",
              "      <td>67</td>\n",
              "    </tr>\n",
              "    <tr>\n",
              "      <th>19997</th>\n",
              "      <td>1.0</td>\n",
              "      <td>2</td>\n",
              "      <td>40.6682</td>\n",
              "      <td>-73.9801</td>\n",
              "      <td>3000</td>\n",
              "      <td>low</td>\n",
              "      <td>103</td>\n",
              "      <td>26</td>\n",
              "    </tr>\n",
              "    <tr>\n",
              "      <th>19998</th>\n",
              "      <td>2.0</td>\n",
              "      <td>1</td>\n",
              "      <td>40.7141</td>\n",
              "      <td>-74.0096</td>\n",
              "      <td>5166</td>\n",
              "      <td>low</td>\n",
              "      <td>0</td>\n",
              "      <td>161</td>\n",
              "    </tr>\n",
              "    <tr>\n",
              "      <th>19999</th>\n",
              "      <td>1.0</td>\n",
              "      <td>1</td>\n",
              "      <td>40.7156</td>\n",
              "      <td>-74.0100</td>\n",
              "      <td>4150</td>\n",
              "      <td>low</td>\n",
              "      <td>74</td>\n",
              "      <td>39</td>\n",
              "    </tr>\n",
              "  </tbody>\n",
              "</table>\n",
              "<p>20000 rows × 8 columns</p>\n",
              "</div>\n",
              "      <button class=\"colab-df-convert\" onclick=\"convertToInteractive('df-9c4cc837-9e65-481e-9dc9-99495c1f1d68')\"\n",
              "              title=\"Convert this dataframe to an interactive table.\"\n",
              "              style=\"display:none;\">\n",
              "        \n",
              "  <svg xmlns=\"http://www.w3.org/2000/svg\" height=\"24px\"viewBox=\"0 0 24 24\"\n",
              "       width=\"24px\">\n",
              "    <path d=\"M0 0h24v24H0V0z\" fill=\"none\"/>\n",
              "    <path d=\"M18.56 5.44l.94 2.06.94-2.06 2.06-.94-2.06-.94-.94-2.06-.94 2.06-2.06.94zm-11 1L8.5 8.5l.94-2.06 2.06-.94-2.06-.94L8.5 2.5l-.94 2.06-2.06.94zm10 10l.94 2.06.94-2.06 2.06-.94-2.06-.94-.94-2.06-.94 2.06-2.06.94z\"/><path d=\"M17.41 7.96l-1.37-1.37c-.4-.4-.92-.59-1.43-.59-.52 0-1.04.2-1.43.59L10.3 9.45l-7.72 7.72c-.78.78-.78 2.05 0 2.83L4 21.41c.39.39.9.59 1.41.59.51 0 1.02-.2 1.41-.59l7.78-7.78 2.81-2.81c.8-.78.8-2.07 0-2.86zM5.41 20L4 18.59l7.72-7.72 1.47 1.35L5.41 20z\"/>\n",
              "  </svg>\n",
              "      </button>\n",
              "      \n",
              "  <style>\n",
              "    .colab-df-container {\n",
              "      display:flex;\n",
              "      flex-wrap:wrap;\n",
              "      gap: 12px;\n",
              "    }\n",
              "\n",
              "    .colab-df-convert {\n",
              "      background-color: #E8F0FE;\n",
              "      border: none;\n",
              "      border-radius: 50%;\n",
              "      cursor: pointer;\n",
              "      display: none;\n",
              "      fill: #1967D2;\n",
              "      height: 32px;\n",
              "      padding: 0 0 0 0;\n",
              "      width: 32px;\n",
              "    }\n",
              "\n",
              "    .colab-df-convert:hover {\n",
              "      background-color: #E2EBFA;\n",
              "      box-shadow: 0px 1px 2px rgba(60, 64, 67, 0.3), 0px 1px 3px 1px rgba(60, 64, 67, 0.15);\n",
              "      fill: #174EA6;\n",
              "    }\n",
              "\n",
              "    [theme=dark] .colab-df-convert {\n",
              "      background-color: #3B4455;\n",
              "      fill: #D2E3FC;\n",
              "    }\n",
              "\n",
              "    [theme=dark] .colab-df-convert:hover {\n",
              "      background-color: #434B5C;\n",
              "      box-shadow: 0px 1px 3px 1px rgba(0, 0, 0, 0.15);\n",
              "      filter: drop-shadow(0px 1px 2px rgba(0, 0, 0, 0.3));\n",
              "      fill: #FFFFFF;\n",
              "    }\n",
              "  </style>\n",
              "\n",
              "      <script>\n",
              "        const buttonEl =\n",
              "          document.querySelector('#df-9c4cc837-9e65-481e-9dc9-99495c1f1d68 button.colab-df-convert');\n",
              "        buttonEl.style.display =\n",
              "          google.colab.kernel.accessAllowed ? 'block' : 'none';\n",
              "\n",
              "        async function convertToInteractive(key) {\n",
              "          const element = document.querySelector('#df-9c4cc837-9e65-481e-9dc9-99495c1f1d68');\n",
              "          const dataTable =\n",
              "            await google.colab.kernel.invokeFunction('convertToInteractive',\n",
              "                                                     [key], {});\n",
              "          if (!dataTable) return;\n",
              "\n",
              "          const docLinkHtml = 'Like what you see? Visit the ' +\n",
              "            '<a target=\"_blank\" href=https://colab.research.google.com/notebooks/data_table.ipynb>data table notebook</a>'\n",
              "            + ' to learn more about interactive tables.';\n",
              "          element.innerHTML = '';\n",
              "          dataTable['output_type'] = 'display_data';\n",
              "          await google.colab.output.renderOutput(dataTable, element);\n",
              "          const docLink = document.createElement('div');\n",
              "          docLink.innerHTML = docLinkHtml;\n",
              "          element.appendChild(docLink);\n",
              "        }\n",
              "      </script>\n",
              "    </div>\n",
              "  </div>\n",
              "  "
            ]
          },
          "metadata": {},
          "execution_count": 75
        }
      ]
    },
    {
      "cell_type": "code",
      "source": [
        "rent_14 = rent_14[rent_14['price'] >= 0]"
      ],
      "metadata": {
        "id": "PNfnaiYyDfXm"
      },
      "execution_count": 76,
      "outputs": []
    },
    {
      "cell_type": "code",
      "source": [
        "rent_14.isnull().sum()"
      ],
      "metadata": {
        "colab": {
          "base_uri": "https://localhost:8080/"
        },
        "id": "-Oy3qBxSDI-Q",
        "outputId": "cbfd7388-4396-40d8-cdb5-ba5b169e507a"
      },
      "execution_count": 77,
      "outputs": [
        {
          "output_type": "execute_result",
          "data": {
            "text/plain": [
              "bathrooms         0\n",
              "bedrooms          0\n",
              "latitude          0\n",
              "longitude         0\n",
              "price             0\n",
              "interest_level    0\n",
              "num_desc_words    0\n",
              "mgr_apt_count     0\n",
              "dtype: int64"
            ]
          },
          "metadata": {},
          "execution_count": 77
        }
      ]
    },
    {
      "cell_type": "code",
      "source": [
        "# Replace the 'interest_level' column with numerical values: \n",
        "rent_14['interest_level'].replace(['low', 'medium', 'high'], [1, 2, 3])"
      ],
      "metadata": {
        "id": "pl8qh223Nc1I",
        "outputId": "9edf5b67-72db-4ac5-b20a-63535fe7bb58",
        "colab": {
          "base_uri": "https://localhost:8080/"
        }
      },
      "execution_count": 79,
      "outputs": [
        {
          "output_type": "execute_result",
          "data": {
            "text/plain": [
              "0        1\n",
              "1        1\n",
              "2        1\n",
              "3        1\n",
              "4        1\n",
              "        ..\n",
              "19995    1\n",
              "19996    1\n",
              "19997    1\n",
              "19998    1\n",
              "19999    1\n",
              "Name: interest_level, Length: 19505, dtype: int64"
            ]
          },
          "metadata": {},
          "execution_count": 79
        }
      ]
    },
    {
      "cell_type": "code",
      "source": [
        "rent_14"
      ],
      "metadata": {
        "colab": {
          "base_uri": "https://localhost:8080/",
          "height": 424
        },
        "id": "EYqpI81uUgfJ",
        "outputId": "120b9918-dbc1-4bf6-8b80-18764e437d52"
      },
      "execution_count": 80,
      "outputs": [
        {
          "output_type": "execute_result",
          "data": {
            "text/plain": [
              "       bathrooms  bedrooms  latitude  longitude  price  interest_level  \\\n",
              "0            1.0         2   40.7301   -73.9825   4295               1   \n",
              "1            2.0         3   40.6883   -73.9609   4695               1   \n",
              "2            2.0         3   40.7943   -73.9675   5950               1   \n",
              "3            1.0         1   40.6795   -73.9505   1550               1   \n",
              "4            2.0         4   40.7765   -73.9550   6100               1   \n",
              "...          ...       ...       ...        ...    ...             ...   \n",
              "19995        1.0         0   40.7520   -73.9946   3250               1   \n",
              "19996        1.0         2   40.7317   -73.9821   3250               1   \n",
              "19997        1.0         2   40.6682   -73.9801   3000               1   \n",
              "19998        2.0         1   40.7141   -74.0096   5166               1   \n",
              "19999        1.0         1   40.7156   -74.0100   4150               1   \n",
              "\n",
              "       num_desc_words  mgr_apt_count  \n",
              "0                 127             24  \n",
              "1                  46             52  \n",
              "2                  88             28  \n",
              "3                  40             15  \n",
              "4                  40             15  \n",
              "...               ...            ...  \n",
              "19995             158             34  \n",
              "19996             118             67  \n",
              "19997             103             26  \n",
              "19998               0            161  \n",
              "19999              74             39  \n",
              "\n",
              "[19505 rows x 8 columns]"
            ],
            "text/html": [
              "\n",
              "  <div id=\"df-ff591757-c79d-4775-a16c-397ee9884724\">\n",
              "    <div class=\"colab-df-container\">\n",
              "      <div>\n",
              "<style scoped>\n",
              "    .dataframe tbody tr th:only-of-type {\n",
              "        vertical-align: middle;\n",
              "    }\n",
              "\n",
              "    .dataframe tbody tr th {\n",
              "        vertical-align: top;\n",
              "    }\n",
              "\n",
              "    .dataframe thead th {\n",
              "        text-align: right;\n",
              "    }\n",
              "</style>\n",
              "<table border=\"1\" class=\"dataframe\">\n",
              "  <thead>\n",
              "    <tr style=\"text-align: right;\">\n",
              "      <th></th>\n",
              "      <th>bathrooms</th>\n",
              "      <th>bedrooms</th>\n",
              "      <th>latitude</th>\n",
              "      <th>longitude</th>\n",
              "      <th>price</th>\n",
              "      <th>interest_level</th>\n",
              "      <th>num_desc_words</th>\n",
              "      <th>mgr_apt_count</th>\n",
              "    </tr>\n",
              "  </thead>\n",
              "  <tbody>\n",
              "    <tr>\n",
              "      <th>0</th>\n",
              "      <td>1.0</td>\n",
              "      <td>2</td>\n",
              "      <td>40.7301</td>\n",
              "      <td>-73.9825</td>\n",
              "      <td>4295</td>\n",
              "      <td>1</td>\n",
              "      <td>127</td>\n",
              "      <td>24</td>\n",
              "    </tr>\n",
              "    <tr>\n",
              "      <th>1</th>\n",
              "      <td>2.0</td>\n",
              "      <td>3</td>\n",
              "      <td>40.6883</td>\n",
              "      <td>-73.9609</td>\n",
              "      <td>4695</td>\n",
              "      <td>1</td>\n",
              "      <td>46</td>\n",
              "      <td>52</td>\n",
              "    </tr>\n",
              "    <tr>\n",
              "      <th>2</th>\n",
              "      <td>2.0</td>\n",
              "      <td>3</td>\n",
              "      <td>40.7943</td>\n",
              "      <td>-73.9675</td>\n",
              "      <td>5950</td>\n",
              "      <td>1</td>\n",
              "      <td>88</td>\n",
              "      <td>28</td>\n",
              "    </tr>\n",
              "    <tr>\n",
              "      <th>3</th>\n",
              "      <td>1.0</td>\n",
              "      <td>1</td>\n",
              "      <td>40.6795</td>\n",
              "      <td>-73.9505</td>\n",
              "      <td>1550</td>\n",
              "      <td>1</td>\n",
              "      <td>40</td>\n",
              "      <td>15</td>\n",
              "    </tr>\n",
              "    <tr>\n",
              "      <th>4</th>\n",
              "      <td>2.0</td>\n",
              "      <td>4</td>\n",
              "      <td>40.7765</td>\n",
              "      <td>-73.9550</td>\n",
              "      <td>6100</td>\n",
              "      <td>1</td>\n",
              "      <td>40</td>\n",
              "      <td>15</td>\n",
              "    </tr>\n",
              "    <tr>\n",
              "      <th>...</th>\n",
              "      <td>...</td>\n",
              "      <td>...</td>\n",
              "      <td>...</td>\n",
              "      <td>...</td>\n",
              "      <td>...</td>\n",
              "      <td>...</td>\n",
              "      <td>...</td>\n",
              "      <td>...</td>\n",
              "    </tr>\n",
              "    <tr>\n",
              "      <th>19995</th>\n",
              "      <td>1.0</td>\n",
              "      <td>0</td>\n",
              "      <td>40.7520</td>\n",
              "      <td>-73.9946</td>\n",
              "      <td>3250</td>\n",
              "      <td>1</td>\n",
              "      <td>158</td>\n",
              "      <td>34</td>\n",
              "    </tr>\n",
              "    <tr>\n",
              "      <th>19996</th>\n",
              "      <td>1.0</td>\n",
              "      <td>2</td>\n",
              "      <td>40.7317</td>\n",
              "      <td>-73.9821</td>\n",
              "      <td>3250</td>\n",
              "      <td>1</td>\n",
              "      <td>118</td>\n",
              "      <td>67</td>\n",
              "    </tr>\n",
              "    <tr>\n",
              "      <th>19997</th>\n",
              "      <td>1.0</td>\n",
              "      <td>2</td>\n",
              "      <td>40.6682</td>\n",
              "      <td>-73.9801</td>\n",
              "      <td>3000</td>\n",
              "      <td>1</td>\n",
              "      <td>103</td>\n",
              "      <td>26</td>\n",
              "    </tr>\n",
              "    <tr>\n",
              "      <th>19998</th>\n",
              "      <td>2.0</td>\n",
              "      <td>1</td>\n",
              "      <td>40.7141</td>\n",
              "      <td>-74.0096</td>\n",
              "      <td>5166</td>\n",
              "      <td>1</td>\n",
              "      <td>0</td>\n",
              "      <td>161</td>\n",
              "    </tr>\n",
              "    <tr>\n",
              "      <th>19999</th>\n",
              "      <td>1.0</td>\n",
              "      <td>1</td>\n",
              "      <td>40.7156</td>\n",
              "      <td>-74.0100</td>\n",
              "      <td>4150</td>\n",
              "      <td>1</td>\n",
              "      <td>74</td>\n",
              "      <td>39</td>\n",
              "    </tr>\n",
              "  </tbody>\n",
              "</table>\n",
              "<p>19505 rows × 8 columns</p>\n",
              "</div>\n",
              "      <button class=\"colab-df-convert\" onclick=\"convertToInteractive('df-ff591757-c79d-4775-a16c-397ee9884724')\"\n",
              "              title=\"Convert this dataframe to an interactive table.\"\n",
              "              style=\"display:none;\">\n",
              "        \n",
              "  <svg xmlns=\"http://www.w3.org/2000/svg\" height=\"24px\"viewBox=\"0 0 24 24\"\n",
              "       width=\"24px\">\n",
              "    <path d=\"M0 0h24v24H0V0z\" fill=\"none\"/>\n",
              "    <path d=\"M18.56 5.44l.94 2.06.94-2.06 2.06-.94-2.06-.94-.94-2.06-.94 2.06-2.06.94zm-11 1L8.5 8.5l.94-2.06 2.06-.94-2.06-.94L8.5 2.5l-.94 2.06-2.06.94zm10 10l.94 2.06.94-2.06 2.06-.94-2.06-.94-.94-2.06-.94 2.06-2.06.94z\"/><path d=\"M17.41 7.96l-1.37-1.37c-.4-.4-.92-.59-1.43-.59-.52 0-1.04.2-1.43.59L10.3 9.45l-7.72 7.72c-.78.78-.78 2.05 0 2.83L4 21.41c.39.39.9.59 1.41.59.51 0 1.02-.2 1.41-.59l7.78-7.78 2.81-2.81c.8-.78.8-2.07 0-2.86zM5.41 20L4 18.59l7.72-7.72 1.47 1.35L5.41 20z\"/>\n",
              "  </svg>\n",
              "      </button>\n",
              "      \n",
              "  <style>\n",
              "    .colab-df-container {\n",
              "      display:flex;\n",
              "      flex-wrap:wrap;\n",
              "      gap: 12px;\n",
              "    }\n",
              "\n",
              "    .colab-df-convert {\n",
              "      background-color: #E8F0FE;\n",
              "      border: none;\n",
              "      border-radius: 50%;\n",
              "      cursor: pointer;\n",
              "      display: none;\n",
              "      fill: #1967D2;\n",
              "      height: 32px;\n",
              "      padding: 0 0 0 0;\n",
              "      width: 32px;\n",
              "    }\n",
              "\n",
              "    .colab-df-convert:hover {\n",
              "      background-color: #E2EBFA;\n",
              "      box-shadow: 0px 1px 2px rgba(60, 64, 67, 0.3), 0px 1px 3px 1px rgba(60, 64, 67, 0.15);\n",
              "      fill: #174EA6;\n",
              "    }\n",
              "\n",
              "    [theme=dark] .colab-df-convert {\n",
              "      background-color: #3B4455;\n",
              "      fill: #D2E3FC;\n",
              "    }\n",
              "\n",
              "    [theme=dark] .colab-df-convert:hover {\n",
              "      background-color: #434B5C;\n",
              "      box-shadow: 0px 1px 3px 1px rgba(0, 0, 0, 0.15);\n",
              "      filter: drop-shadow(0px 1px 2px rgba(0, 0, 0, 0.3));\n",
              "      fill: #FFFFFF;\n",
              "    }\n",
              "  </style>\n",
              "\n",
              "      <script>\n",
              "        const buttonEl =\n",
              "          document.querySelector('#df-ff591757-c79d-4775-a16c-397ee9884724 button.colab-df-convert');\n",
              "        buttonEl.style.display =\n",
              "          google.colab.kernel.accessAllowed ? 'block' : 'none';\n",
              "\n",
              "        async function convertToInteractive(key) {\n",
              "          const element = document.querySelector('#df-ff591757-c79d-4775-a16c-397ee9884724');\n",
              "          const dataTable =\n",
              "            await google.colab.kernel.invokeFunction('convertToInteractive',\n",
              "                                                     [key], {});\n",
              "          if (!dataTable) return;\n",
              "\n",
              "          const docLinkHtml = 'Like what you see? Visit the ' +\n",
              "            '<a target=\"_blank\" href=https://colab.research.google.com/notebooks/data_table.ipynb>data table notebook</a>'\n",
              "            + ' to learn more about interactive tables.';\n",
              "          element.innerHTML = '';\n",
              "          dataTable['output_type'] = 'display_data';\n",
              "          await google.colab.output.renderOutput(dataTable, element);\n",
              "          const docLink = document.createElement('div');\n",
              "          docLink.innerHTML = docLinkHtml;\n",
              "          element.appendChild(docLink);\n",
              "        }\n",
              "      </script>\n",
              "    </div>\n",
              "  </div>\n",
              "  "
            ]
          },
          "metadata": {},
          "execution_count": 80
        }
      ]
    },
    {
      "cell_type": "markdown",
      "metadata": {
        "id": "k5kESsix7qe4"
      },
      "source": [
        "### Part 1 - Create and evaluate an initial model\n",
        "\n",
        "#### Code (15 marks)"
      ]
    },
    {
      "cell_type": "code",
      "source": [
        "import numpy as np \n",
        "import matplotlib.pyplot as plt\n",
        "from sklearn.model_selection import train_test_split\n",
        "from sklearn.ensemble import RandomForestRegressor\n",
        "from sklearn.metrics import mean_absolute_error"
      ],
      "metadata": {
        "id": "e_3X9TH1_M77"
      },
      "execution_count": 99,
      "outputs": []
    },
    {
      "cell_type": "code",
      "source": [
        "# Here we are choosing which features to use as dependet (X)\n",
        "# and which one will be predicted (y). \n",
        "X = rent_14[['bedrooms', 'bathrooms', 'latitude', 'longitude', 'interest_level']]\n",
        "y = rent_14['price']"
      ],
      "metadata": {
        "id": "WnIKcSw6AjkI"
      },
      "execution_count": 105,
      "outputs": []
    },
    {
      "cell_type": "code",
      "source": [
        "X_train, X_test, y_train, y_test = train_test_split(X, y, test_size = 0.2, random_state = 42)\n",
        "rfr = RandomForestRegressor(n_estimators = 100, n_jobs=-1, oob_score= True)"
      ],
      "metadata": {
        "id": "gKDHsl-RCNZH"
      },
      "execution_count": 110,
      "outputs": []
    },
    {
      "cell_type": "code",
      "source": [
        "rfr.fit(X_train, y_train)"
      ],
      "metadata": {
        "id": "FHdIqPdIG7OU",
        "outputId": "e0ed85f5-f9f1-4e55-c3d9-87e0bb2f9bab",
        "colab": {
          "base_uri": "https://localhost:8080/",
          "height": 75
        }
      },
      "execution_count": 123,
      "outputs": [
        {
          "output_type": "execute_result",
          "data": {
            "text/plain": [
              "RandomForestRegressor(n_jobs=-1, oob_score=True)"
            ],
            "text/html": [
              "<style>#sk-container-id-9 {color: black;background-color: white;}#sk-container-id-9 pre{padding: 0;}#sk-container-id-9 div.sk-toggleable {background-color: white;}#sk-container-id-9 label.sk-toggleable__label {cursor: pointer;display: block;width: 100%;margin-bottom: 0;padding: 0.3em;box-sizing: border-box;text-align: center;}#sk-container-id-9 label.sk-toggleable__label-arrow:before {content: \"▸\";float: left;margin-right: 0.25em;color: #696969;}#sk-container-id-9 label.sk-toggleable__label-arrow:hover:before {color: black;}#sk-container-id-9 div.sk-estimator:hover label.sk-toggleable__label-arrow:before {color: black;}#sk-container-id-9 div.sk-toggleable__content {max-height: 0;max-width: 0;overflow: hidden;text-align: left;background-color: #f0f8ff;}#sk-container-id-9 div.sk-toggleable__content pre {margin: 0.2em;color: black;border-radius: 0.25em;background-color: #f0f8ff;}#sk-container-id-9 input.sk-toggleable__control:checked~div.sk-toggleable__content {max-height: 200px;max-width: 100%;overflow: auto;}#sk-container-id-9 input.sk-toggleable__control:checked~label.sk-toggleable__label-arrow:before {content: \"▾\";}#sk-container-id-9 div.sk-estimator input.sk-toggleable__control:checked~label.sk-toggleable__label {background-color: #d4ebff;}#sk-container-id-9 div.sk-label input.sk-toggleable__control:checked~label.sk-toggleable__label {background-color: #d4ebff;}#sk-container-id-9 input.sk-hidden--visually {border: 0;clip: rect(1px 1px 1px 1px);clip: rect(1px, 1px, 1px, 1px);height: 1px;margin: -1px;overflow: hidden;padding: 0;position: absolute;width: 1px;}#sk-container-id-9 div.sk-estimator {font-family: monospace;background-color: #f0f8ff;border: 1px dotted black;border-radius: 0.25em;box-sizing: border-box;margin-bottom: 0.5em;}#sk-container-id-9 div.sk-estimator:hover {background-color: #d4ebff;}#sk-container-id-9 div.sk-parallel-item::after {content: \"\";width: 100%;border-bottom: 1px solid gray;flex-grow: 1;}#sk-container-id-9 div.sk-label:hover label.sk-toggleable__label {background-color: #d4ebff;}#sk-container-id-9 div.sk-serial::before {content: \"\";position: absolute;border-left: 1px solid gray;box-sizing: border-box;top: 0;bottom: 0;left: 50%;z-index: 0;}#sk-container-id-9 div.sk-serial {display: flex;flex-direction: column;align-items: center;background-color: white;padding-right: 0.2em;padding-left: 0.2em;position: relative;}#sk-container-id-9 div.sk-item {position: relative;z-index: 1;}#sk-container-id-9 div.sk-parallel {display: flex;align-items: stretch;justify-content: center;background-color: white;position: relative;}#sk-container-id-9 div.sk-item::before, #sk-container-id-9 div.sk-parallel-item::before {content: \"\";position: absolute;border-left: 1px solid gray;box-sizing: border-box;top: 0;bottom: 0;left: 50%;z-index: -1;}#sk-container-id-9 div.sk-parallel-item {display: flex;flex-direction: column;z-index: 1;position: relative;background-color: white;}#sk-container-id-9 div.sk-parallel-item:first-child::after {align-self: flex-end;width: 50%;}#sk-container-id-9 div.sk-parallel-item:last-child::after {align-self: flex-start;width: 50%;}#sk-container-id-9 div.sk-parallel-item:only-child::after {width: 0;}#sk-container-id-9 div.sk-dashed-wrapped {border: 1px dashed gray;margin: 0 0.4em 0.5em 0.4em;box-sizing: border-box;padding-bottom: 0.4em;background-color: white;}#sk-container-id-9 div.sk-label label {font-family: monospace;font-weight: bold;display: inline-block;line-height: 1.2em;}#sk-container-id-9 div.sk-label-container {text-align: center;}#sk-container-id-9 div.sk-container {/* jupyter's `normalize.less` sets `[hidden] { display: none; }` but bootstrap.min.css set `[hidden] { display: none !important; }` so we also need the `!important` here to be able to override the default hidden behavior on the sphinx rendered scikit-learn.org. See: https://github.com/scikit-learn/scikit-learn/issues/21755 */display: inline-block !important;position: relative;}#sk-container-id-9 div.sk-text-repr-fallback {display: none;}</style><div id=\"sk-container-id-9\" class=\"sk-top-container\"><div class=\"sk-text-repr-fallback\"><pre>RandomForestRegressor(n_jobs=-1, oob_score=True)</pre><b>In a Jupyter environment, please rerun this cell to show the HTML representation or trust the notebook. <br />On GitHub, the HTML representation is unable to render, please try loading this page with nbviewer.org.</b></div><div class=\"sk-container\" hidden><div class=\"sk-item\"><div class=\"sk-estimator sk-toggleable\"><input class=\"sk-toggleable__control sk-hidden--visually\" id=\"sk-estimator-id-9\" type=\"checkbox\" checked><label for=\"sk-estimator-id-9\" class=\"sk-toggleable__label sk-toggleable__label-arrow\">RandomForestRegressor</label><div class=\"sk-toggleable__content\"><pre>RandomForestRegressor(n_jobs=-1, oob_score=True)</pre></div></div></div></div></div>"
            ]
          },
          "metadata": {},
          "execution_count": 123
        }
      ]
    },
    {
      "cell_type": "code",
      "source": [
        "r2 = rfr.score(X_train, y_train)\n",
        "print( f\"{r2:.4f}\" )"
      ],
      "metadata": {
        "colab": {
          "base_uri": "https://localhost:8080/"
        },
        "id": "0of85hv_Vk6d",
        "outputId": "c7d164d9-6a2d-4105-f16a-f10c3b63fd8a"
      },
      "execution_count": 124,
      "outputs": [
        {
          "output_type": "stream",
          "name": "stdout",
          "text": [
            "0.9171\n"
          ]
        }
      ]
    },
    {
      "cell_type": "code",
      "source": [
        "noisy_oob_r2 = rfr.oob_score_\n",
        "print(f\"OOB score {noisy_oob_r2:.4f}\")"
      ],
      "metadata": {
        "colab": {
          "base_uri": "https://localhost:8080/"
        },
        "id": "grW_k_VAXCKH",
        "outputId": "4b7f62cc-56a6-4d99-89e2-c91271deaae5"
      },
      "execution_count": 125,
      "outputs": [
        {
          "output_type": "stream",
          "name": "stdout",
          "text": [
            "OOB score 0.5216\n"
          ]
        }
      ]
    },
    {
      "cell_type": "code",
      "source": [
        "y_pred = rfr.predict(X_test)\n",
        "y_pred"
      ],
      "metadata": {
        "colab": {
          "base_uri": "https://localhost:8080/"
        },
        "id": "PCIv6x4MW3Xg",
        "outputId": "1df31110-b881-45f6-a0d5-bf2af176cb25"
      },
      "execution_count": 93,
      "outputs": [
        {
          "output_type": "execute_result",
          "data": {
            "text/plain": [
              "array([3756.17845238, 2129.66      , 2940.10953022, ..., 2488.27      ,\n",
              "       3555.95969534, 2634.17685995])"
            ]
          },
          "metadata": {},
          "execution_count": 93
        }
      ]
    },
    {
      "cell_type": "markdown",
      "metadata": {
        "id": "YiwUwX7a7qe5"
      },
      "source": [
        "#### Explanation (5 marks)\n",
        "\n",
        "Please provide an explanation and justification for the code submitted in **Part 1** in the context of the overall objective. "
      ]
    },
    {
      "cell_type": "markdown",
      "metadata": {
        "id": "CjqgBbwk7qe5"
      },
      "source": [
        "### Part 2 - Denoise the data\n",
        "\n",
        "This section should only include the code necessary to **denoise** the data, NOT the code necessary to identify inconsistencies, problems, errors, etc. in the data. \n",
        "\n",
        "#### Code (25 marks)"
      ]
    },
    {
      "cell_type": "code",
      "execution_count": 43,
      "metadata": {
        "id": "DxfqYXNc7qe5"
      },
      "outputs": [],
      "source": []
    },
    {
      "cell_type": "markdown",
      "metadata": {
        "id": "tv9t2PVo7qe5"
      },
      "source": [
        "### Part 3 - Create and evaluate a final model\n",
        "\n",
        "#### Code (15 marks)"
      ]
    },
    {
      "cell_type": "code",
      "execution_count": 43,
      "metadata": {
        "id": "RJLeu4jT7qe6"
      },
      "outputs": [],
      "source": []
    },
    {
      "cell_type": "markdown",
      "metadata": {
        "id": "v_2MnU9f7qe6"
      },
      "source": [
        "#### Explanation (5 marks)\n",
        "\n",
        "Please provide an explanation and justification for the code submitted in **Part 3** in the context of the overall objective. "
      ]
    },
    {
      "cell_type": "markdown",
      "metadata": {
        "id": "ivuDvBK-7qe7"
      },
      "source": [
        "### Part 4 - Document the problems (35 marks)\n",
        "\n",
        "In this part, please use the table below to document your understanding of all the data issues you discovered. Note that **no code** should be included, as that should be covered in **Part 2**. Also, note that even if one line of code fixed a few problems, you should list each problem separately in the table below, so be sure you have investigated the data properly. For example, if the list `[-6, 5, 0, 50]` represents heights of adults, the -6, 0, and 50 would represent three data issues to be included in the table below, even though one line of code may be able to address all of them. \n",
        "\n",
        "| Data issue discovered | Why is this a problem? | How did you fix it? | Why is this fix appropriate? |\n",
        "| :- | :- | :- | :- | \n",
        "|  example problem 1  | example explanation    | example fix  | example explanation about why this fix is appropriate   |\n",
        "|  example problem 2  | example explanation    | example fix  | example explanation about why this fix is appropriate   |\n"
      ]
    },
    {
      "cell_type": "code",
      "execution_count": 43,
      "metadata": {
        "id": "y5d6hVtI7qe7"
      },
      "outputs": [],
      "source": []
    }
  ],
  "metadata": {
    "kernelspec": {
      "display_name": "Python 3 (ipykernel)",
      "language": "python",
      "name": "python3"
    },
    "language_info": {
      "codemirror_mode": {
        "name": "ipython",
        "version": 3
      },
      "file_extension": ".py",
      "mimetype": "text/x-python",
      "name": "python",
      "nbconvert_exporter": "python",
      "pygments_lexer": "ipython3",
      "version": "3.9.13"
    },
    "colab": {
      "provenance": [],
      "include_colab_link": true
    }
  },
  "nbformat": 4,
  "nbformat_minor": 0
}