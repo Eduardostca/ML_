{
  "cells": [
    {
      "cell_type": "markdown",
      "metadata": {
        "id": "view-in-github",
        "colab_type": "text"
      },
      "source": [
        "<a href=\"https://colab.research.google.com/github/Eduardostca/ML_/blob/main/Graded_Lab_1.ipynb\" target=\"_parent\"><img src=\"https://colab.research.google.com/assets/colab-badge.svg\" alt=\"Open In Colab\"/></a>"
      ]
    },
    {
      "cell_type": "markdown",
      "metadata": {
        "tags": [],
        "id": "AG77_38J7qez"
      },
      "source": [
        "## DAB200 -- Graded Lab 1\n",
        "\n",
        "In this lab, you will gain some experience in **denoising** a dataset in the context of a specific objective. \n",
        "\n",
        "**Overall Objective**: Create a model that predicts rent prices as well as possible for typical New York City apartments."
      ]
    },
    {
      "cell_type": "markdown",
      "metadata": {
        "id": "5KXM8UpN7qe2"
      },
      "source": [
        "**Data set**: make sure you use the data with the same number as your group number!\n",
        "\n",
        "| Group | Data set |\n",
        "| :-: | :-: |\n",
        "| 1 | rent_1.csv |\n",
        "| 2 | rent_2.csv |\n",
        "| etc. | etc. |\n",
        "\n",
        "**Important Notes:**\n",
        " - This lab is more open-ended so be prepared to think on your own, in a logical way, in order to solve the problem at hand\n",
        "     - You should be able to support any decision you make with logical evidence\n",
        " - The data looks like the data we have been using in class but it has other **surprises**\n",
        "     - Be sure to investigate the data in a way that allows you to discover all these surprises\n",
        " - Use [Chapter 5](https://mlbook.explained.ai/prep.html) of the textbook as a **guide**, except:\n",
        "     - you only need to use **random forest** models;\n",
        "     - exclude Section 5.5; \n",
        " - Code submitted for this lab should be:\n",
        "     - error free\n",
        "         - to make sure this is the case, before submitting, close all Jupyter notebooks, exit Anaconda, reload the lab notebook and execute all cells\n",
        "     - final code\n",
        "         - this means that I don't want to see every piece of code you try as you work through this lab but only the final code; only the code that fulfills the objective\n",
        " - Use the **out-of-bag score** to evaluate models\n",
        "     - Read Section 5.2 carefully so that you use this method properly\n",
        "     - The oob score that you provide should be the average of 10 runs\n",
        " - Don't make assumptions!\n",
        "\n",
        "I have broken the lab down into 4 main parts. "
      ]
    },
    {
      "cell_type": "markdown",
      "metadata": {
        "id": "7JD-W0M57qe3"
      },
      "source": [
        "### Part 0\n",
        "\n",
        "Please provide the following information:\n",
        " - Group Number: 14\n",
        " - Group Members: \n",
        "     - Noushin Asadsamani (0829532)\n",
        "     - Eduardo Chavez Barrientos (0828349)\n",
        "     - Prasanna Kumar Loganathan (---)\n",
        "\n",
        "     "
      ]
    },
    {
      "cell_type": "code",
      "execution_count": 22,
      "metadata": {
        "id": "3UNiyeLJ7qe4",
        "outputId": "df8980e1-850a-4a93-fe83-39cdcffdae10",
        "colab": {
          "base_uri": "https://localhost:8080/"
        }
      },
      "outputs": [
        {
          "output_type": "execute_result",
          "data": {
            "text/plain": [
              "Index(['bathrooms', 'bedrooms', 'building_id', 'created', 'description',\n",
              "       'display_address', 'features', 'latitude', 'longitude', 'manager_id',\n",
              "       'photos', 'price', 'street_address', 'interest_level', 'num_desc_words',\n",
              "       'mgr_apt_count'],\n",
              "      dtype='object')"
            ]
          },
          "metadata": {},
          "execution_count": 22
        }
      ],
      "source": [
        "# Import the pandas library and load the dataset from a github repository: \n",
        "import pandas as pd\n",
        "rent_14 = pd.read_csv(\"https://github.com/Eduardostca/ML_/raw/main/rent_14.csv\")\n",
        "rent_14.columns"
      ]
    },
    {
      "cell_type": "code",
      "source": [
        "# Replace the 'interest_level' column with numerical values: \n",
        "rent_14['interest_level'] = rent_14['interest_level'].replace(['low', 'medium', 'high'], [1, 2, 3])\n",
        "rent_14['interest_level'].sample(13)"
      ],
      "metadata": {
        "id": "pl8qh223Nc1I",
        "outputId": "1dd42b3e-961a-4f17-a2cb-35ba829b69d8",
        "colab": {
          "base_uri": "https://localhost:8080/"
        }
      },
      "execution_count": 23,
      "outputs": [
        {
          "output_type": "execute_result",
          "data": {
            "text/plain": [
              "4461     1\n",
              "16205    2\n",
              "7075     2\n",
              "3417     1\n",
              "16082    1\n",
              "9573     1\n",
              "8905     1\n",
              "10514    2\n",
              "13325    2\n",
              "8405     1\n",
              "16057    1\n",
              "9219     3\n",
              "14966    1\n",
              "Name: interest_level, dtype: int64"
            ]
          },
          "metadata": {},
          "execution_count": 23
        }
      ]
    },
    {
      "cell_type": "markdown",
      "metadata": {
        "id": "k5kESsix7qe4"
      },
      "source": [
        "### Part 1 - Create and evaluate an initial model\n",
        "\n",
        "#### Code (15 marks)"
      ]
    },
    {
      "cell_type": "code",
      "source": [
        "import numpy as np \n",
        "from sklearn.model_selection import train_test_split\n",
        "from sklearn.ensemble import RandomForestRegressor\n",
        "from sklearn.metrics import mean_absolute_error"
      ],
      "metadata": {
        "id": "e_3X9TH1_M77"
      },
      "execution_count": 4,
      "outputs": []
    },
    {
      "cell_type": "code",
      "source": [
        "# Here we are choosing which features to use as dependet (X)\n",
        "# and which one will be predicted (y). \n",
        "X = rent_14[['bedrooms', 'bathrooms', 'latitude', 'longitude', 'interest_level']]\n",
        "y = rent_14['price']"
      ],
      "metadata": {
        "id": "WnIKcSw6AjkI"
      },
      "execution_count": 5,
      "outputs": []
    },
    {
      "cell_type": "code",
      "source": [
        "X_train, X_test, y_train, y_test = train_test_split(X, y, test_size = 0.2, random_state = 42)\n",
        "rfr = RandomForestRegressor(n_estimators = 100, random_state= 1)"
      ],
      "metadata": {
        "id": "gKDHsl-RCNZH"
      },
      "execution_count": 6,
      "outputs": []
    },
    {
      "cell_type": "code",
      "source": [
        "rfr.fit(X_train, y_train)\n",
        "y_pred = rfr.predict(X_test)\n",
        "y_pred"
      ],
      "metadata": {
        "id": "FHdIqPdIG7OU",
        "outputId": "d23cd0cf-a820-448d-c626-6e28d6ab4ec9",
        "colab": {
          "base_uri": "https://localhost:8080/"
        }
      },
      "execution_count": 9,
      "outputs": [
        {
          "output_type": "execute_result",
          "data": {
            "text/plain": [
              "array([6048.6047619 , 3752.31919113, 2416.11      , ..., 3957.30361111,\n",
              "       2774.34838095, 2795.29166667])"
            ]
          },
          "metadata": {},
          "execution_count": 9
        }
      ]
    },
    {
      "cell_type": "markdown",
      "metadata": {
        "id": "YiwUwX7a7qe5"
      },
      "source": [
        "#### Explanation (5 marks)\n",
        "\n",
        "Please provide an explanation and justification for the code submitted in **Part 1** in the context of the overall objective. "
      ]
    },
    {
      "cell_type": "markdown",
      "metadata": {
        "id": "CjqgBbwk7qe5"
      },
      "source": [
        "### Part 2 - Denoise the data\n",
        "\n",
        "This section should only include the code necessary to **denoise** the data, NOT the code necessary to identify inconsistencies, problems, errors, etc. in the data. \n",
        "\n",
        "#### Code (25 marks)"
      ]
    },
    {
      "cell_type": "code",
      "execution_count": null,
      "metadata": {
        "id": "DxfqYXNc7qe5"
      },
      "outputs": [],
      "source": []
    },
    {
      "cell_type": "markdown",
      "metadata": {
        "id": "tv9t2PVo7qe5"
      },
      "source": [
        "### Part 3 - Create and evaluate a final model\n",
        "\n",
        "#### Code (15 marks)"
      ]
    },
    {
      "cell_type": "code",
      "execution_count": null,
      "metadata": {
        "id": "RJLeu4jT7qe6"
      },
      "outputs": [],
      "source": []
    },
    {
      "cell_type": "markdown",
      "metadata": {
        "id": "v_2MnU9f7qe6"
      },
      "source": [
        "#### Explanation (5 marks)\n",
        "\n",
        "Please provide an explanation and justification for the code submitted in **Part 3** in the context of the overall objective. "
      ]
    },
    {
      "cell_type": "markdown",
      "metadata": {
        "id": "ivuDvBK-7qe7"
      },
      "source": [
        "### Part 4 - Document the problems (35 marks)\n",
        "\n",
        "In this part, please use the table below to document your understanding of all the data issues you discovered. Note that **no code** should be included, as that should be covered in **Part 2**. Also, note that even if one line of code fixed a few problems, you should list each problem separately in the table below, so be sure you have investigated the data properly. For example, if the list `[-6, 5, 0, 50]` represents heights of adults, the -6, 0, and 50 would represent three data issues to be included in the table below, even though one line of code may be able to address all of them. \n",
        "\n",
        "| Data issue discovered | Why is this a problem? | How did you fix it? | Why is this fix appropriate? |\n",
        "| :- | :- | :- | :- | \n",
        "|  example problem 1  | example explanation    | example fix  | example explanation about why this fix is appropriate   |\n",
        "|  example problem 2  | example explanation    | example fix  | example explanation about why this fix is appropriate   |\n"
      ]
    },
    {
      "cell_type": "code",
      "execution_count": null,
      "metadata": {
        "id": "y5d6hVtI7qe7"
      },
      "outputs": [],
      "source": []
    }
  ],
  "metadata": {
    "kernelspec": {
      "display_name": "Python 3 (ipykernel)",
      "language": "python",
      "name": "python3"
    },
    "language_info": {
      "codemirror_mode": {
        "name": "ipython",
        "version": 3
      },
      "file_extension": ".py",
      "mimetype": "text/x-python",
      "name": "python",
      "nbconvert_exporter": "python",
      "pygments_lexer": "ipython3",
      "version": "3.9.13"
    },
    "colab": {
      "provenance": [],
      "include_colab_link": true
    }
  },
  "nbformat": 4,
  "nbformat_minor": 0
}