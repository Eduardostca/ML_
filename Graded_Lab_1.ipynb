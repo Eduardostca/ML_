{
  "cells": [
    {
      "cell_type": "markdown",
      "metadata": {
        "id": "view-in-github",
        "colab_type": "text"
      },
      "source": [
        "<a href=\"https://colab.research.google.com/github/Eduardostca/ML_/blob/main/Graded_Lab_1.ipynb\" target=\"_parent\"><img src=\"https://colab.research.google.com/assets/colab-badge.svg\" alt=\"Open In Colab\"/></a>"
      ]
    },
    {
      "cell_type": "markdown",
      "metadata": {
        "tags": [],
        "id": "AG77_38J7qez"
      },
      "source": [
        "## DAB200 -- Graded Lab 1\n",
        "\n",
        "In this lab, you will gain some experience in **denoising** a dataset in the context of a specific objective. \n",
        "\n",
        "**Overall Objective**: Create a model that predicts rent prices as well as possible for typical New York City apartments."
      ]
    },
    {
      "cell_type": "markdown",
      "metadata": {
        "id": "5KXM8UpN7qe2"
      },
      "source": [
        "**Data set**: make sure you use the data with the same number as your group number!\n",
        "\n",
        "| Group | Data set |\n",
        "| :-: | :-: |\n",
        "| 1 | rent_1.csv |\n",
        "| 2 | rent_2.csv |\n",
        "| etc. | etc. |\n",
        "\n",
        "**Important Notes:**\n",
        " - This lab is more open-ended so be prepared to think on your own, in a logical way, in order to solve the problem at hand\n",
        "     - You should be able to support any decision you make with logical evidence\n",
        " - The data looks like the data we have been using in class but it has other **surprises**\n",
        "     - Be sure to investigate the data in a way that allows you to discover all these surprises\n",
        " - Use [Chapter 5](https://mlbook.explained.ai/prep.html) of the textbook as a **guide**, except:\n",
        "     - you only need to use **random forest** models;\n",
        "     - exclude Section 5.5; \n",
        " - Code submitted for this lab should be:\n",
        "     - error free\n",
        "         - to make sure this is the case, before submitting, close all Jupyter notebooks, exit Anaconda, reload the lab notebook and execute all cells\n",
        "     - final code\n",
        "         - this means that I don't want to see every piece of code you try as you work through this lab but only the final code; only the code that fulfills the objective\n",
        " - Use the **out-of-bag score** to evaluate models\n",
        "     - Read Section 5.2 carefully so that you use this method properly\n",
        "     - The oob score that you provide should be the average of 10 runs\n",
        " - Don't make assumptions!\n",
        "\n",
        "I have broken the lab down into 4 main parts. "
      ]
    },
    {
      "cell_type": "markdown",
      "metadata": {
        "id": "7JD-W0M57qe3"
      },
      "source": [
        "### Part 0\n",
        "\n",
        "Please provide the following information:\n",
        " - Group Number: 14\n",
        " - Group Members: \n",
        "     - Noushin Asadsamani (0829532)\n",
        "     - Eduardo Chavez Barrientos (0828349)\n",
        "     - Prasanna Kumar Loganathan (---)\n",
        "\n",
        "     "
      ]
    },
    {
      "cell_type": "markdown",
      "metadata": {
        "id": "k5kESsix7qe4"
      },
      "source": [
        "### Part 1 - Create and evaluate an initial model\n",
        "\n",
        "#### Code (15 marks)"
      ]
    },
    {
      "cell_type": "code",
      "execution_count": 1,
      "metadata": {
        "id": "3UNiyeLJ7qe4"
      },
      "outputs": [],
      "source": [
        "# Import libraries and load the dataset from a github repository: \n",
        "import pandas as pd\n",
        "import numpy as np \n",
        "from sklearn.model_selection import train_test_split\n",
        "from sklearn.ensemble import RandomForestRegressor\n",
        "from sklearn.metrics import mean_absolute_error"
      ]
    },
    {
      "cell_type": "code",
      "source": [
        "# Let's read the csv file source directly from a Github link: \n",
        "rent_14 = pd.read_csv(\"https://github.com/Eduardostca/ML_/raw/main/rent_14.csv\")\n",
        "rent_14.head()"
      ],
      "metadata": {
        "colab": {
          "base_uri": "https://localhost:8080/",
          "height": 600
        },
        "id": "COr94-WUC9Q6",
        "outputId": "dbcd721a-5a7f-42cb-d0b4-5a444a347fea"
      },
      "execution_count": 2,
      "outputs": [
        {
          "output_type": "execute_result",
          "data": {
            "text/plain": [
              "   bathrooms  bedrooms                       building_id              created  \\\n",
              "0        1.0         2  f14a61a49b66107bc2f0d605786ada9e  2016-05-06 05:40:30   \n",
              "1        2.0         3  90a92523c20dcaab46c12d1619186f85  2016-05-19 05:48:21   \n",
              "2        2.0         3  e0f787c39be40769fb269c641078eb50  2016-06-20 18:23:45   \n",
              "3        1.0         1                                 0  2016-04-02 03:29:12   \n",
              "4        2.0         4                                 0  2016-06-15 06:10:52   \n",
              "\n",
              "                                         description       display_address  \\\n",
              "0  NO FEE!! TRUE 2 BED( 1 QUEEN BED UPPER FLOOR) ...      East 13th Street   \n",
              "1  ***Large Sunny 3 bedroom** This apartment just...         Clifton Place   \n",
              "2  NO FEE !! ELEGANT BUILDING LOCATED IN MAGNIFIC...         Columbus Ave.   \n",
              "3  <![CDATA[1 bedroom, 1550, Bedford Stuyvesant/B...       Herkimer Street   \n",
              "4  Gorgeous Large 4 bedroom. Gorgeous kitchen wit...  206 East 83rd Street   \n",
              "\n",
              "                                            features  latitude  longitude  \\\n",
              "0  ['Dining Room', 'Balcony', 'Garden/Patio', 'Pr...   40.7301   -73.9825   \n",
              "1        ['Pre-War', 'Dogs Allowed', 'Cats Allowed']   40.6883   -73.9609   \n",
              "2  ['Balcony', 'Elevator', 'Terrace', 'Laundry in...   40.7943   -73.9675   \n",
              "3                                                 []   40.6795   -73.9505   \n",
              "4  ['Multi-Level', 'Pre-War', 'Dishwasher', 'Hard...   40.7765   -73.9550   \n",
              "\n",
              "                         manager_id  \\\n",
              "0  be563466c0c0a5b295db3822c1c5e289   \n",
              "1  5239c98c3c2228c0369842750684054d   \n",
              "2  dd6b488d74624d64a0ba4767d990da83   \n",
              "3  5a72de95cac7a85578ef414adb094111   \n",
              "4  7d28decc8e53977e80b7d9a05f624adc   \n",
              "\n",
              "                                              photos  price  \\\n",
              "0  ['https://photos.renthop.com/2/6975780_39bf7da...   4295   \n",
              "1  ['https://photos.renthop.com/2/7039012_d012a99...   4695   \n",
              "2  ['https://photos.renthop.com/2/7183660_67285fb...   5950   \n",
              "3  ['https://photos.renthop.com/2/6815254_27aca79...   1550   \n",
              "4  ['https://photos.renthop.com/2/7164732_f0cd41f...   6100   \n",
              "\n",
              "         street_address interest_level  num_desc_words  mgr_apt_count  \n",
              "0  416 East 13th Street            low             127             24  \n",
              "1      79 Clifton Place            low              46             52  \n",
              "2     784 Columbus Ave.            low              88             28  \n",
              "3    88 Herkimer Street            low              40             15  \n",
              "4  206 East 83rd Street            low              40             15  "
            ],
            "text/html": [
              "\n",
              "  <div id=\"df-1f91932a-b7ca-428d-99a3-c5e09f2a03a3\">\n",
              "    <div class=\"colab-df-container\">\n",
              "      <div>\n",
              "<style scoped>\n",
              "    .dataframe tbody tr th:only-of-type {\n",
              "        vertical-align: middle;\n",
              "    }\n",
              "\n",
              "    .dataframe tbody tr th {\n",
              "        vertical-align: top;\n",
              "    }\n",
              "\n",
              "    .dataframe thead th {\n",
              "        text-align: right;\n",
              "    }\n",
              "</style>\n",
              "<table border=\"1\" class=\"dataframe\">\n",
              "  <thead>\n",
              "    <tr style=\"text-align: right;\">\n",
              "      <th></th>\n",
              "      <th>bathrooms</th>\n",
              "      <th>bedrooms</th>\n",
              "      <th>building_id</th>\n",
              "      <th>created</th>\n",
              "      <th>description</th>\n",
              "      <th>display_address</th>\n",
              "      <th>features</th>\n",
              "      <th>latitude</th>\n",
              "      <th>longitude</th>\n",
              "      <th>manager_id</th>\n",
              "      <th>photos</th>\n",
              "      <th>price</th>\n",
              "      <th>street_address</th>\n",
              "      <th>interest_level</th>\n",
              "      <th>num_desc_words</th>\n",
              "      <th>mgr_apt_count</th>\n",
              "    </tr>\n",
              "  </thead>\n",
              "  <tbody>\n",
              "    <tr>\n",
              "      <th>0</th>\n",
              "      <td>1.0</td>\n",
              "      <td>2</td>\n",
              "      <td>f14a61a49b66107bc2f0d605786ada9e</td>\n",
              "      <td>2016-05-06 05:40:30</td>\n",
              "      <td>NO FEE!! TRUE 2 BED( 1 QUEEN BED UPPER FLOOR) ...</td>\n",
              "      <td>East 13th Street</td>\n",
              "      <td>['Dining Room', 'Balcony', 'Garden/Patio', 'Pr...</td>\n",
              "      <td>40.7301</td>\n",
              "      <td>-73.9825</td>\n",
              "      <td>be563466c0c0a5b295db3822c1c5e289</td>\n",
              "      <td>['https://photos.renthop.com/2/6975780_39bf7da...</td>\n",
              "      <td>4295</td>\n",
              "      <td>416 East 13th Street</td>\n",
              "      <td>low</td>\n",
              "      <td>127</td>\n",
              "      <td>24</td>\n",
              "    </tr>\n",
              "    <tr>\n",
              "      <th>1</th>\n",
              "      <td>2.0</td>\n",
              "      <td>3</td>\n",
              "      <td>90a92523c20dcaab46c12d1619186f85</td>\n",
              "      <td>2016-05-19 05:48:21</td>\n",
              "      <td>***Large Sunny 3 bedroom** This apartment just...</td>\n",
              "      <td>Clifton Place</td>\n",
              "      <td>['Pre-War', 'Dogs Allowed', 'Cats Allowed']</td>\n",
              "      <td>40.6883</td>\n",
              "      <td>-73.9609</td>\n",
              "      <td>5239c98c3c2228c0369842750684054d</td>\n",
              "      <td>['https://photos.renthop.com/2/7039012_d012a99...</td>\n",
              "      <td>4695</td>\n",
              "      <td>79 Clifton Place</td>\n",
              "      <td>low</td>\n",
              "      <td>46</td>\n",
              "      <td>52</td>\n",
              "    </tr>\n",
              "    <tr>\n",
              "      <th>2</th>\n",
              "      <td>2.0</td>\n",
              "      <td>3</td>\n",
              "      <td>e0f787c39be40769fb269c641078eb50</td>\n",
              "      <td>2016-06-20 18:23:45</td>\n",
              "      <td>NO FEE !! ELEGANT BUILDING LOCATED IN MAGNIFIC...</td>\n",
              "      <td>Columbus Ave.</td>\n",
              "      <td>['Balcony', 'Elevator', 'Terrace', 'Laundry in...</td>\n",
              "      <td>40.7943</td>\n",
              "      <td>-73.9675</td>\n",
              "      <td>dd6b488d74624d64a0ba4767d990da83</td>\n",
              "      <td>['https://photos.renthop.com/2/7183660_67285fb...</td>\n",
              "      <td>5950</td>\n",
              "      <td>784 Columbus Ave.</td>\n",
              "      <td>low</td>\n",
              "      <td>88</td>\n",
              "      <td>28</td>\n",
              "    </tr>\n",
              "    <tr>\n",
              "      <th>3</th>\n",
              "      <td>1.0</td>\n",
              "      <td>1</td>\n",
              "      <td>0</td>\n",
              "      <td>2016-04-02 03:29:12</td>\n",
              "      <td>&lt;![CDATA[1 bedroom, 1550, Bedford Stuyvesant/B...</td>\n",
              "      <td>Herkimer Street</td>\n",
              "      <td>[]</td>\n",
              "      <td>40.6795</td>\n",
              "      <td>-73.9505</td>\n",
              "      <td>5a72de95cac7a85578ef414adb094111</td>\n",
              "      <td>['https://photos.renthop.com/2/6815254_27aca79...</td>\n",
              "      <td>1550</td>\n",
              "      <td>88 Herkimer Street</td>\n",
              "      <td>low</td>\n",
              "      <td>40</td>\n",
              "      <td>15</td>\n",
              "    </tr>\n",
              "    <tr>\n",
              "      <th>4</th>\n",
              "      <td>2.0</td>\n",
              "      <td>4</td>\n",
              "      <td>0</td>\n",
              "      <td>2016-06-15 06:10:52</td>\n",
              "      <td>Gorgeous Large 4 bedroom. Gorgeous kitchen wit...</td>\n",
              "      <td>206 East 83rd Street</td>\n",
              "      <td>['Multi-Level', 'Pre-War', 'Dishwasher', 'Hard...</td>\n",
              "      <td>40.7765</td>\n",
              "      <td>-73.9550</td>\n",
              "      <td>7d28decc8e53977e80b7d9a05f624adc</td>\n",
              "      <td>['https://photos.renthop.com/2/7164732_f0cd41f...</td>\n",
              "      <td>6100</td>\n",
              "      <td>206 East 83rd Street</td>\n",
              "      <td>low</td>\n",
              "      <td>40</td>\n",
              "      <td>15</td>\n",
              "    </tr>\n",
              "  </tbody>\n",
              "</table>\n",
              "</div>\n",
              "      <button class=\"colab-df-convert\" onclick=\"convertToInteractive('df-1f91932a-b7ca-428d-99a3-c5e09f2a03a3')\"\n",
              "              title=\"Convert this dataframe to an interactive table.\"\n",
              "              style=\"display:none;\">\n",
              "        \n",
              "  <svg xmlns=\"http://www.w3.org/2000/svg\" height=\"24px\"viewBox=\"0 0 24 24\"\n",
              "       width=\"24px\">\n",
              "    <path d=\"M0 0h24v24H0V0z\" fill=\"none\"/>\n",
              "    <path d=\"M18.56 5.44l.94 2.06.94-2.06 2.06-.94-2.06-.94-.94-2.06-.94 2.06-2.06.94zm-11 1L8.5 8.5l.94-2.06 2.06-.94-2.06-.94L8.5 2.5l-.94 2.06-2.06.94zm10 10l.94 2.06.94-2.06 2.06-.94-2.06-.94-.94-2.06-.94 2.06-2.06.94z\"/><path d=\"M17.41 7.96l-1.37-1.37c-.4-.4-.92-.59-1.43-.59-.52 0-1.04.2-1.43.59L10.3 9.45l-7.72 7.72c-.78.78-.78 2.05 0 2.83L4 21.41c.39.39.9.59 1.41.59.51 0 1.02-.2 1.41-.59l7.78-7.78 2.81-2.81c.8-.78.8-2.07 0-2.86zM5.41 20L4 18.59l7.72-7.72 1.47 1.35L5.41 20z\"/>\n",
              "  </svg>\n",
              "      </button>\n",
              "      \n",
              "  <style>\n",
              "    .colab-df-container {\n",
              "      display:flex;\n",
              "      flex-wrap:wrap;\n",
              "      gap: 12px;\n",
              "    }\n",
              "\n",
              "    .colab-df-convert {\n",
              "      background-color: #E8F0FE;\n",
              "      border: none;\n",
              "      border-radius: 50%;\n",
              "      cursor: pointer;\n",
              "      display: none;\n",
              "      fill: #1967D2;\n",
              "      height: 32px;\n",
              "      padding: 0 0 0 0;\n",
              "      width: 32px;\n",
              "    }\n",
              "\n",
              "    .colab-df-convert:hover {\n",
              "      background-color: #E2EBFA;\n",
              "      box-shadow: 0px 1px 2px rgba(60, 64, 67, 0.3), 0px 1px 3px 1px rgba(60, 64, 67, 0.15);\n",
              "      fill: #174EA6;\n",
              "    }\n",
              "\n",
              "    [theme=dark] .colab-df-convert {\n",
              "      background-color: #3B4455;\n",
              "      fill: #D2E3FC;\n",
              "    }\n",
              "\n",
              "    [theme=dark] .colab-df-convert:hover {\n",
              "      background-color: #434B5C;\n",
              "      box-shadow: 0px 1px 3px 1px rgba(0, 0, 0, 0.15);\n",
              "      filter: drop-shadow(0px 1px 2px rgba(0, 0, 0, 0.3));\n",
              "      fill: #FFFFFF;\n",
              "    }\n",
              "  </style>\n",
              "\n",
              "      <script>\n",
              "        const buttonEl =\n",
              "          document.querySelector('#df-1f91932a-b7ca-428d-99a3-c5e09f2a03a3 button.colab-df-convert');\n",
              "        buttonEl.style.display =\n",
              "          google.colab.kernel.accessAllowed ? 'block' : 'none';\n",
              "\n",
              "        async function convertToInteractive(key) {\n",
              "          const element = document.querySelector('#df-1f91932a-b7ca-428d-99a3-c5e09f2a03a3');\n",
              "          const dataTable =\n",
              "            await google.colab.kernel.invokeFunction('convertToInteractive',\n",
              "                                                     [key], {});\n",
              "          if (!dataTable) return;\n",
              "\n",
              "          const docLinkHtml = 'Like what you see? Visit the ' +\n",
              "            '<a target=\"_blank\" href=https://colab.research.google.com/notebooks/data_table.ipynb>data table notebook</a>'\n",
              "            + ' to learn more about interactive tables.';\n",
              "          element.innerHTML = '';\n",
              "          dataTable['output_type'] = 'display_data';\n",
              "          await google.colab.output.renderOutput(dataTable, element);\n",
              "          const docLink = document.createElement('div');\n",
              "          docLink.innerHTML = docLinkHtml;\n",
              "          element.appendChild(docLink);\n",
              "        }\n",
              "      </script>\n",
              "    </div>\n",
              "  </div>\n",
              "  "
            ]
          },
          "metadata": {},
          "execution_count": 2
        }
      ]
    },
    {
      "cell_type": "code",
      "source": [
        "# --- CREATING AN INITIAL MODEL ---\n",
        "# We are using only relevant features for the overal objective of this project:\n",
        "rent_14 = rent_14.drop(['building_id', 'created', 'description', 'display_address', 'features', 'manager_id', 'photos', 'street_address', 'num_desc_words', 'mgr_apt_count', 'interest_level'], axis=1)\n",
        "rent_14"
      ],
      "metadata": {
        "colab": {
          "base_uri": "https://localhost:8080/",
          "height": 423
        },
        "id": "-FH6DSnuB6uu",
        "outputId": "f5a0d9e3-5228-49d3-f0d8-4b41a1c25ef2"
      },
      "execution_count": 3,
      "outputs": [
        {
          "output_type": "execute_result",
          "data": {
            "text/plain": [
              "       bathrooms  bedrooms  latitude  longitude  price\n",
              "0            1.0         2   40.7301   -73.9825   4295\n",
              "1            2.0         3   40.6883   -73.9609   4695\n",
              "2            2.0         3   40.7943   -73.9675   5950\n",
              "3            1.0         1   40.6795   -73.9505   1550\n",
              "4            2.0         4   40.7765   -73.9550   6100\n",
              "...          ...       ...       ...        ...    ...\n",
              "19995        1.0         0   40.7520   -73.9946   3250\n",
              "19996        1.0         2   40.7317   -73.9821   3250\n",
              "19997        1.0         2   40.6682   -73.9801   3000\n",
              "19998        2.0         1   40.7141   -74.0096   5166\n",
              "19999        1.0         1   40.7156   -74.0100   4150\n",
              "\n",
              "[20000 rows x 5 columns]"
            ],
            "text/html": [
              "\n",
              "  <div id=\"df-d4cbeca0-580f-41c6-92af-34a395c12d62\">\n",
              "    <div class=\"colab-df-container\">\n",
              "      <div>\n",
              "<style scoped>\n",
              "    .dataframe tbody tr th:only-of-type {\n",
              "        vertical-align: middle;\n",
              "    }\n",
              "\n",
              "    .dataframe tbody tr th {\n",
              "        vertical-align: top;\n",
              "    }\n",
              "\n",
              "    .dataframe thead th {\n",
              "        text-align: right;\n",
              "    }\n",
              "</style>\n",
              "<table border=\"1\" class=\"dataframe\">\n",
              "  <thead>\n",
              "    <tr style=\"text-align: right;\">\n",
              "      <th></th>\n",
              "      <th>bathrooms</th>\n",
              "      <th>bedrooms</th>\n",
              "      <th>latitude</th>\n",
              "      <th>longitude</th>\n",
              "      <th>price</th>\n",
              "    </tr>\n",
              "  </thead>\n",
              "  <tbody>\n",
              "    <tr>\n",
              "      <th>0</th>\n",
              "      <td>1.0</td>\n",
              "      <td>2</td>\n",
              "      <td>40.7301</td>\n",
              "      <td>-73.9825</td>\n",
              "      <td>4295</td>\n",
              "    </tr>\n",
              "    <tr>\n",
              "      <th>1</th>\n",
              "      <td>2.0</td>\n",
              "      <td>3</td>\n",
              "      <td>40.6883</td>\n",
              "      <td>-73.9609</td>\n",
              "      <td>4695</td>\n",
              "    </tr>\n",
              "    <tr>\n",
              "      <th>2</th>\n",
              "      <td>2.0</td>\n",
              "      <td>3</td>\n",
              "      <td>40.7943</td>\n",
              "      <td>-73.9675</td>\n",
              "      <td>5950</td>\n",
              "    </tr>\n",
              "    <tr>\n",
              "      <th>3</th>\n",
              "      <td>1.0</td>\n",
              "      <td>1</td>\n",
              "      <td>40.6795</td>\n",
              "      <td>-73.9505</td>\n",
              "      <td>1550</td>\n",
              "    </tr>\n",
              "    <tr>\n",
              "      <th>4</th>\n",
              "      <td>2.0</td>\n",
              "      <td>4</td>\n",
              "      <td>40.7765</td>\n",
              "      <td>-73.9550</td>\n",
              "      <td>6100</td>\n",
              "    </tr>\n",
              "    <tr>\n",
              "      <th>...</th>\n",
              "      <td>...</td>\n",
              "      <td>...</td>\n",
              "      <td>...</td>\n",
              "      <td>...</td>\n",
              "      <td>...</td>\n",
              "    </tr>\n",
              "    <tr>\n",
              "      <th>19995</th>\n",
              "      <td>1.0</td>\n",
              "      <td>0</td>\n",
              "      <td>40.7520</td>\n",
              "      <td>-73.9946</td>\n",
              "      <td>3250</td>\n",
              "    </tr>\n",
              "    <tr>\n",
              "      <th>19996</th>\n",
              "      <td>1.0</td>\n",
              "      <td>2</td>\n",
              "      <td>40.7317</td>\n",
              "      <td>-73.9821</td>\n",
              "      <td>3250</td>\n",
              "    </tr>\n",
              "    <tr>\n",
              "      <th>19997</th>\n",
              "      <td>1.0</td>\n",
              "      <td>2</td>\n",
              "      <td>40.6682</td>\n",
              "      <td>-73.9801</td>\n",
              "      <td>3000</td>\n",
              "    </tr>\n",
              "    <tr>\n",
              "      <th>19998</th>\n",
              "      <td>2.0</td>\n",
              "      <td>1</td>\n",
              "      <td>40.7141</td>\n",
              "      <td>-74.0096</td>\n",
              "      <td>5166</td>\n",
              "    </tr>\n",
              "    <tr>\n",
              "      <th>19999</th>\n",
              "      <td>1.0</td>\n",
              "      <td>1</td>\n",
              "      <td>40.7156</td>\n",
              "      <td>-74.0100</td>\n",
              "      <td>4150</td>\n",
              "    </tr>\n",
              "  </tbody>\n",
              "</table>\n",
              "<p>20000 rows × 5 columns</p>\n",
              "</div>\n",
              "      <button class=\"colab-df-convert\" onclick=\"convertToInteractive('df-d4cbeca0-580f-41c6-92af-34a395c12d62')\"\n",
              "              title=\"Convert this dataframe to an interactive table.\"\n",
              "              style=\"display:none;\">\n",
              "        \n",
              "  <svg xmlns=\"http://www.w3.org/2000/svg\" height=\"24px\"viewBox=\"0 0 24 24\"\n",
              "       width=\"24px\">\n",
              "    <path d=\"M0 0h24v24H0V0z\" fill=\"none\"/>\n",
              "    <path d=\"M18.56 5.44l.94 2.06.94-2.06 2.06-.94-2.06-.94-.94-2.06-.94 2.06-2.06.94zm-11 1L8.5 8.5l.94-2.06 2.06-.94-2.06-.94L8.5 2.5l-.94 2.06-2.06.94zm10 10l.94 2.06.94-2.06 2.06-.94-2.06-.94-.94-2.06-.94 2.06-2.06.94z\"/><path d=\"M17.41 7.96l-1.37-1.37c-.4-.4-.92-.59-1.43-.59-.52 0-1.04.2-1.43.59L10.3 9.45l-7.72 7.72c-.78.78-.78 2.05 0 2.83L4 21.41c.39.39.9.59 1.41.59.51 0 1.02-.2 1.41-.59l7.78-7.78 2.81-2.81c.8-.78.8-2.07 0-2.86zM5.41 20L4 18.59l7.72-7.72 1.47 1.35L5.41 20z\"/>\n",
              "  </svg>\n",
              "      </button>\n",
              "      \n",
              "  <style>\n",
              "    .colab-df-container {\n",
              "      display:flex;\n",
              "      flex-wrap:wrap;\n",
              "      gap: 12px;\n",
              "    }\n",
              "\n",
              "    .colab-df-convert {\n",
              "      background-color: #E8F0FE;\n",
              "      border: none;\n",
              "      border-radius: 50%;\n",
              "      cursor: pointer;\n",
              "      display: none;\n",
              "      fill: #1967D2;\n",
              "      height: 32px;\n",
              "      padding: 0 0 0 0;\n",
              "      width: 32px;\n",
              "    }\n",
              "\n",
              "    .colab-df-convert:hover {\n",
              "      background-color: #E2EBFA;\n",
              "      box-shadow: 0px 1px 2px rgba(60, 64, 67, 0.3), 0px 1px 3px 1px rgba(60, 64, 67, 0.15);\n",
              "      fill: #174EA6;\n",
              "    }\n",
              "\n",
              "    [theme=dark] .colab-df-convert {\n",
              "      background-color: #3B4455;\n",
              "      fill: #D2E3FC;\n",
              "    }\n",
              "\n",
              "    [theme=dark] .colab-df-convert:hover {\n",
              "      background-color: #434B5C;\n",
              "      box-shadow: 0px 1px 3px 1px rgba(0, 0, 0, 0.15);\n",
              "      filter: drop-shadow(0px 1px 2px rgba(0, 0, 0, 0.3));\n",
              "      fill: #FFFFFF;\n",
              "    }\n",
              "  </style>\n",
              "\n",
              "      <script>\n",
              "        const buttonEl =\n",
              "          document.querySelector('#df-d4cbeca0-580f-41c6-92af-34a395c12d62 button.colab-df-convert');\n",
              "        buttonEl.style.display =\n",
              "          google.colab.kernel.accessAllowed ? 'block' : 'none';\n",
              "\n",
              "        async function convertToInteractive(key) {\n",
              "          const element = document.querySelector('#df-d4cbeca0-580f-41c6-92af-34a395c12d62');\n",
              "          const dataTable =\n",
              "            await google.colab.kernel.invokeFunction('convertToInteractive',\n",
              "                                                     [key], {});\n",
              "          if (!dataTable) return;\n",
              "\n",
              "          const docLinkHtml = 'Like what you see? Visit the ' +\n",
              "            '<a target=\"_blank\" href=https://colab.research.google.com/notebooks/data_table.ipynb>data table notebook</a>'\n",
              "            + ' to learn more about interactive tables.';\n",
              "          element.innerHTML = '';\n",
              "          dataTable['output_type'] = 'display_data';\n",
              "          await google.colab.output.renderOutput(dataTable, element);\n",
              "          const docLink = document.createElement('div');\n",
              "          docLink.innerHTML = docLinkHtml;\n",
              "          element.appendChild(docLink);\n",
              "        }\n",
              "      </script>\n",
              "    </div>\n",
              "  </div>\n",
              "  "
            ]
          },
          "metadata": {},
          "execution_count": 3
        }
      ]
    },
    {
      "cell_type": "code",
      "source": [
        "# Here we are choosing which features to use as dependet (X)\n",
        "# and which one will be predicted (y): \n",
        "X = rent_14[['bedrooms', 'bathrooms', 'latitude', 'longitude']]\n",
        "y = rent_14['price']"
      ],
      "metadata": {
        "id": "WnIKcSw6AjkI"
      },
      "execution_count": 4,
      "outputs": []
    },
    {
      "cell_type": "code",
      "source": [
        "# In this code we're creating the instance for the Random Forest algorithm: \n",
        "rfr = RandomForestRegressor(n_estimators=100, n_jobs=-1 , oob_score=True)\n",
        "\n",
        "# We will train the model not with a dataframe, but only with its values: \n",
        "rfr.fit(X.values, y.values)"
      ],
      "metadata": {
        "colab": {
          "base_uri": "https://localhost:8080/",
          "height": 74
        },
        "id": "xQ_z6Lq-GhAJ",
        "outputId": "997df6b8-dcd5-4987-bd3c-e953b1f3a935"
      },
      "execution_count": 5,
      "outputs": [
        {
          "output_type": "execute_result",
          "data": {
            "text/plain": [
              "RandomForestRegressor(n_jobs=-1, oob_score=True)"
            ],
            "text/html": [
              "<style>#sk-container-id-1 {color: black;background-color: white;}#sk-container-id-1 pre{padding: 0;}#sk-container-id-1 div.sk-toggleable {background-color: white;}#sk-container-id-1 label.sk-toggleable__label {cursor: pointer;display: block;width: 100%;margin-bottom: 0;padding: 0.3em;box-sizing: border-box;text-align: center;}#sk-container-id-1 label.sk-toggleable__label-arrow:before {content: \"▸\";float: left;margin-right: 0.25em;color: #696969;}#sk-container-id-1 label.sk-toggleable__label-arrow:hover:before {color: black;}#sk-container-id-1 div.sk-estimator:hover label.sk-toggleable__label-arrow:before {color: black;}#sk-container-id-1 div.sk-toggleable__content {max-height: 0;max-width: 0;overflow: hidden;text-align: left;background-color: #f0f8ff;}#sk-container-id-1 div.sk-toggleable__content pre {margin: 0.2em;color: black;border-radius: 0.25em;background-color: #f0f8ff;}#sk-container-id-1 input.sk-toggleable__control:checked~div.sk-toggleable__content {max-height: 200px;max-width: 100%;overflow: auto;}#sk-container-id-1 input.sk-toggleable__control:checked~label.sk-toggleable__label-arrow:before {content: \"▾\";}#sk-container-id-1 div.sk-estimator input.sk-toggleable__control:checked~label.sk-toggleable__label {background-color: #d4ebff;}#sk-container-id-1 div.sk-label input.sk-toggleable__control:checked~label.sk-toggleable__label {background-color: #d4ebff;}#sk-container-id-1 input.sk-hidden--visually {border: 0;clip: rect(1px 1px 1px 1px);clip: rect(1px, 1px, 1px, 1px);height: 1px;margin: -1px;overflow: hidden;padding: 0;position: absolute;width: 1px;}#sk-container-id-1 div.sk-estimator {font-family: monospace;background-color: #f0f8ff;border: 1px dotted black;border-radius: 0.25em;box-sizing: border-box;margin-bottom: 0.5em;}#sk-container-id-1 div.sk-estimator:hover {background-color: #d4ebff;}#sk-container-id-1 div.sk-parallel-item::after {content: \"\";width: 100%;border-bottom: 1px solid gray;flex-grow: 1;}#sk-container-id-1 div.sk-label:hover label.sk-toggleable__label {background-color: #d4ebff;}#sk-container-id-1 div.sk-serial::before {content: \"\";position: absolute;border-left: 1px solid gray;box-sizing: border-box;top: 0;bottom: 0;left: 50%;z-index: 0;}#sk-container-id-1 div.sk-serial {display: flex;flex-direction: column;align-items: center;background-color: white;padding-right: 0.2em;padding-left: 0.2em;position: relative;}#sk-container-id-1 div.sk-item {position: relative;z-index: 1;}#sk-container-id-1 div.sk-parallel {display: flex;align-items: stretch;justify-content: center;background-color: white;position: relative;}#sk-container-id-1 div.sk-item::before, #sk-container-id-1 div.sk-parallel-item::before {content: \"\";position: absolute;border-left: 1px solid gray;box-sizing: border-box;top: 0;bottom: 0;left: 50%;z-index: -1;}#sk-container-id-1 div.sk-parallel-item {display: flex;flex-direction: column;z-index: 1;position: relative;background-color: white;}#sk-container-id-1 div.sk-parallel-item:first-child::after {align-self: flex-end;width: 50%;}#sk-container-id-1 div.sk-parallel-item:last-child::after {align-self: flex-start;width: 50%;}#sk-container-id-1 div.sk-parallel-item:only-child::after {width: 0;}#sk-container-id-1 div.sk-dashed-wrapped {border: 1px dashed gray;margin: 0 0.4em 0.5em 0.4em;box-sizing: border-box;padding-bottom: 0.4em;background-color: white;}#sk-container-id-1 div.sk-label label {font-family: monospace;font-weight: bold;display: inline-block;line-height: 1.2em;}#sk-container-id-1 div.sk-label-container {text-align: center;}#sk-container-id-1 div.sk-container {/* jupyter's `normalize.less` sets `[hidden] { display: none; }` but bootstrap.min.css set `[hidden] { display: none !important; }` so we also need the `!important` here to be able to override the default hidden behavior on the sphinx rendered scikit-learn.org. See: https://github.com/scikit-learn/scikit-learn/issues/21755 */display: inline-block !important;position: relative;}#sk-container-id-1 div.sk-text-repr-fallback {display: none;}</style><div id=\"sk-container-id-1\" class=\"sk-top-container\"><div class=\"sk-text-repr-fallback\"><pre>RandomForestRegressor(n_jobs=-1, oob_score=True)</pre><b>In a Jupyter environment, please rerun this cell to show the HTML representation or trust the notebook. <br />On GitHub, the HTML representation is unable to render, please try loading this page with nbviewer.org.</b></div><div class=\"sk-container\" hidden><div class=\"sk-item\"><div class=\"sk-estimator sk-toggleable\"><input class=\"sk-toggleable__control sk-hidden--visually\" id=\"sk-estimator-id-1\" type=\"checkbox\" checked><label for=\"sk-estimator-id-1\" class=\"sk-toggleable__label sk-toggleable__label-arrow\">RandomForestRegressor</label><div class=\"sk-toggleable__content\"><pre>RandomForestRegressor(n_jobs=-1, oob_score=True)</pre></div></div></div></div></div>"
            ]
          },
          "metadata": {},
          "execution_count": 5
        }
      ]
    },
    {
      "cell_type": "code",
      "source": [
        "# --- EVALUATING AN INITIAL MODEL ---\n",
        "# Make up two unknown apartments vectors to make a rent prediction: \n",
        "unknown_x = np.array([[6, 4, 40.7208, -74.9843] , [4, 2, 40.7156, -73.7542]])\n",
        "unknown_x"
      ],
      "metadata": {
        "colab": {
          "base_uri": "https://localhost:8080/"
        },
        "id": "7faWeaZwHs8T",
        "outputId": "87085e33-324a-4852-c60c-4404ef4a857f"
      },
      "execution_count": 6,
      "outputs": [
        {
          "output_type": "execute_result",
          "data": {
            "text/plain": [
              "array([[  6.    ,   4.    ,  40.7208, -74.9843],\n",
              "       [  4.    ,   2.    ,  40.7156, -73.7542]])"
            ]
          },
          "metadata": {},
          "execution_count": 6
        }
      ]
    },
    {
      "cell_type": "code",
      "source": [
        "# Let's make some predictions of our 'unknowns' apartments we've just created:\n",
        "rfr.predict(unknown_x)"
      ],
      "metadata": {
        "colab": {
          "base_uri": "https://localhost:8080/"
        },
        "id": "R1VU3Jc6ISXs",
        "outputId": "65f5f3bb-3608-4988-c8e6-9f0f12069a85"
      },
      "execution_count": 7,
      "outputs": [
        {
          "output_type": "execute_result",
          "data": {
            "text/plain": [
              "array([38533.86      ,  3021.90809524])"
            ]
          },
          "metadata": {},
          "execution_count": 7
        }
      ]
    },
    {
      "cell_type": "code",
      "source": [
        "# Now we are storing the 'Out Of the Bag' score of the 'raw' dataset in a varaible:\n",
        "raw_oob_sc = rfr.oob_score_\n",
        "print(f\"OOB score of the noisy dataset: {raw_oob_sc:.4f}\")"
      ],
      "metadata": {
        "colab": {
          "base_uri": "https://localhost:8080/"
        },
        "id": "xkfg-sGXLEqk",
        "outputId": "dec6669b-6c1b-44f7-b686-92584f9165cc"
      },
      "execution_count": 8,
      "outputs": [
        {
          "output_type": "stream",
          "name": "stdout",
          "text": [
            "OOB score for noisy dataset: -0.0504\n"
          ]
        }
      ]
    },
    {
      "cell_type": "markdown",
      "metadata": {
        "id": "YiwUwX7a7qe5"
      },
      "source": [
        "#### Explanation (5 marks)\n",
        "\n",
        "Please provide an explanation and justification for the code submitted in **Part 1** in the context of the overall objective. "
      ]
    },
    {
      "cell_type": "markdown",
      "metadata": {
        "id": "CjqgBbwk7qe5"
      },
      "source": [
        "### Part 2 - Denoise the data\n",
        "\n",
        "This section should only include the code necessary to **denoise** the data, NOT the code necessary to identify inconsistencies, problems, errors, etc. in the data. \n",
        "\n",
        "#### Code (25 marks)"
      ]
    },
    {
      "cell_type": "code",
      "source": [
        "# Firstly, we need to filter all rent prices between 1000 and 10000 as reazonable prices for rent: \n",
        "rent_14_cl = rent_14[(rent_14['price'] >= 1000) & (rent_14['price'] <= 10000)] "
      ],
      "metadata": {
        "id": "MISbr09LN9MF"
      },
      "execution_count": 11,
      "outputs": []
    },
    {
      "cell_type": "code",
      "source": [
        "# Secondly, filter the data where bathrooms are more than 0:\n",
        "rent_14_cl = rent_14_cl[rent_14_cl['bathrooms'] > 0]"
      ],
      "metadata": {
        "id": "PFXX7C9qd2Kx"
      },
      "execution_count": 12,
      "outputs": []
    },
    {
      "cell_type": "code",
      "source": [
        "# Last but not least, filter Latitude and Longitude of apartments in the New York city area:\n",
        "rent_14_cl = rent_14_cl[(rent_14_cl['latitude']>40.00) &\n",
        "                    (rent_14_cl['latitude']<42.00) &\n",
        "                    (rent_14_cl['longitude']>-75.00) &\n",
        "                    (rent_14_cl['longitude']<-72.00)]"
      ],
      "metadata": {
        "id": "rL78Enoqd3vp"
      },
      "execution_count": 13,
      "outputs": []
    },
    {
      "cell_type": "markdown",
      "source": [
        "latitude and longitude of New York:\n",
        "\n",
        "Largest Latitude: 42.00\n",
        "Smallest Latitude: 40.00\n",
        "Largest Longitude: -72.00\n",
        "Smallest Longitude: -75.00"
      ],
      "metadata": {
        "id": "v2VzhgFEOaBx"
      }
    },
    {
      "cell_type": "markdown",
      "metadata": {
        "id": "tv9t2PVo7qe5"
      },
      "source": [
        "### Part 3 - Create and evaluate a final model\n",
        "\n",
        "#### Code (15 marks)"
      ]
    },
    {
      "cell_type": "code",
      "source": [
        "# --- CREATING A FINAL MODEL ---\n",
        "# As in previous steps, let's assing our denoised data to dependant variables and the one to be predicted: \n",
        "X = rent_14_cl[['bedrooms','bathrooms','latitude','longitude']]\n",
        "y = rent_14_cl['price']"
      ],
      "metadata": {
        "id": "cO7qhV8gENVu"
      },
      "execution_count": 15,
      "outputs": []
    },
    {
      "cell_type": "code",
      "source": [
        "# Here we're spplitting the data to train and test the model: \n",
        "X_train, X_test, y_train, y_test = train_test_split(X, y, test_size=0.2, random_state=123)"
      ],
      "metadata": {
        "id": "Wbh1UThNH2L2"
      },
      "execution_count": 16,
      "outputs": []
    },
    {
      "cell_type": "code",
      "source": [
        "# Instance the model and training it with the denoised dataset: \n",
        "rfr = RandomForestRegressor(n_estimators=100, n_jobs=-1, oob_score=True, random_state=42) \n",
        "rfr.fit(X_train, y_train)"
      ],
      "metadata": {
        "id": "gKDHsl-RCNZH",
        "colab": {
          "base_uri": "https://localhost:8080/",
          "height": 74
        },
        "outputId": "d0a206fd-6d35-4e96-fbcb-e12d71021eac"
      },
      "execution_count": 17,
      "outputs": [
        {
          "output_type": "execute_result",
          "data": {
            "text/plain": [
              "RandomForestRegressor(n_jobs=-1, oob_score=True, random_state=42)"
            ],
            "text/html": [
              "<style>#sk-container-id-2 {color: black;background-color: white;}#sk-container-id-2 pre{padding: 0;}#sk-container-id-2 div.sk-toggleable {background-color: white;}#sk-container-id-2 label.sk-toggleable__label {cursor: pointer;display: block;width: 100%;margin-bottom: 0;padding: 0.3em;box-sizing: border-box;text-align: center;}#sk-container-id-2 label.sk-toggleable__label-arrow:before {content: \"▸\";float: left;margin-right: 0.25em;color: #696969;}#sk-container-id-2 label.sk-toggleable__label-arrow:hover:before {color: black;}#sk-container-id-2 div.sk-estimator:hover label.sk-toggleable__label-arrow:before {color: black;}#sk-container-id-2 div.sk-toggleable__content {max-height: 0;max-width: 0;overflow: hidden;text-align: left;background-color: #f0f8ff;}#sk-container-id-2 div.sk-toggleable__content pre {margin: 0.2em;color: black;border-radius: 0.25em;background-color: #f0f8ff;}#sk-container-id-2 input.sk-toggleable__control:checked~div.sk-toggleable__content {max-height: 200px;max-width: 100%;overflow: auto;}#sk-container-id-2 input.sk-toggleable__control:checked~label.sk-toggleable__label-arrow:before {content: \"▾\";}#sk-container-id-2 div.sk-estimator input.sk-toggleable__control:checked~label.sk-toggleable__label {background-color: #d4ebff;}#sk-container-id-2 div.sk-label input.sk-toggleable__control:checked~label.sk-toggleable__label {background-color: #d4ebff;}#sk-container-id-2 input.sk-hidden--visually {border: 0;clip: rect(1px 1px 1px 1px);clip: rect(1px, 1px, 1px, 1px);height: 1px;margin: -1px;overflow: hidden;padding: 0;position: absolute;width: 1px;}#sk-container-id-2 div.sk-estimator {font-family: monospace;background-color: #f0f8ff;border: 1px dotted black;border-radius: 0.25em;box-sizing: border-box;margin-bottom: 0.5em;}#sk-container-id-2 div.sk-estimator:hover {background-color: #d4ebff;}#sk-container-id-2 div.sk-parallel-item::after {content: \"\";width: 100%;border-bottom: 1px solid gray;flex-grow: 1;}#sk-container-id-2 div.sk-label:hover label.sk-toggleable__label {background-color: #d4ebff;}#sk-container-id-2 div.sk-serial::before {content: \"\";position: absolute;border-left: 1px solid gray;box-sizing: border-box;top: 0;bottom: 0;left: 50%;z-index: 0;}#sk-container-id-2 div.sk-serial {display: flex;flex-direction: column;align-items: center;background-color: white;padding-right: 0.2em;padding-left: 0.2em;position: relative;}#sk-container-id-2 div.sk-item {position: relative;z-index: 1;}#sk-container-id-2 div.sk-parallel {display: flex;align-items: stretch;justify-content: center;background-color: white;position: relative;}#sk-container-id-2 div.sk-item::before, #sk-container-id-2 div.sk-parallel-item::before {content: \"\";position: absolute;border-left: 1px solid gray;box-sizing: border-box;top: 0;bottom: 0;left: 50%;z-index: -1;}#sk-container-id-2 div.sk-parallel-item {display: flex;flex-direction: column;z-index: 1;position: relative;background-color: white;}#sk-container-id-2 div.sk-parallel-item:first-child::after {align-self: flex-end;width: 50%;}#sk-container-id-2 div.sk-parallel-item:last-child::after {align-self: flex-start;width: 50%;}#sk-container-id-2 div.sk-parallel-item:only-child::after {width: 0;}#sk-container-id-2 div.sk-dashed-wrapped {border: 1px dashed gray;margin: 0 0.4em 0.5em 0.4em;box-sizing: border-box;padding-bottom: 0.4em;background-color: white;}#sk-container-id-2 div.sk-label label {font-family: monospace;font-weight: bold;display: inline-block;line-height: 1.2em;}#sk-container-id-2 div.sk-label-container {text-align: center;}#sk-container-id-2 div.sk-container {/* jupyter's `normalize.less` sets `[hidden] { display: none; }` but bootstrap.min.css set `[hidden] { display: none !important; }` so we also need the `!important` here to be able to override the default hidden behavior on the sphinx rendered scikit-learn.org. See: https://github.com/scikit-learn/scikit-learn/issues/21755 */display: inline-block !important;position: relative;}#sk-container-id-2 div.sk-text-repr-fallback {display: none;}</style><div id=\"sk-container-id-2\" class=\"sk-top-container\"><div class=\"sk-text-repr-fallback\"><pre>RandomForestRegressor(n_jobs=-1, oob_score=True, random_state=42)</pre><b>In a Jupyter environment, please rerun this cell to show the HTML representation or trust the notebook. <br />On GitHub, the HTML representation is unable to render, please try loading this page with nbviewer.org.</b></div><div class=\"sk-container\" hidden><div class=\"sk-item\"><div class=\"sk-estimator sk-toggleable\"><input class=\"sk-toggleable__control sk-hidden--visually\" id=\"sk-estimator-id-2\" type=\"checkbox\" checked><label for=\"sk-estimator-id-2\" class=\"sk-toggleable__label sk-toggleable__label-arrow\">RandomForestRegressor</label><div class=\"sk-toggleable__content\"><pre>RandomForestRegressor(n_jobs=-1, oob_score=True, random_state=42)</pre></div></div></div></div></div>"
            ]
          },
          "metadata": {},
          "execution_count": 17
        }
      ]
    },
    {
      "cell_type": "code",
      "source": [
        "# --- EVALUATING A FINAL MODEL ---\n",
        "# Making predictions with the trained model using the denoised data: \n",
        "train_predictions = rfr.predict(X_train)\n",
        "\n",
        "# Measuring the Mean of Absolute Error (MAE) of the trained model using the denoised data:\n",
        "train_e = mean_absolute_error(y_train, train_predictions)\n",
        "\n",
        "# Print the output\n",
        "print(f\"${train_e:.0f} average training error\")"
      ],
      "metadata": {
        "id": "acO4bflTE7Yq",
        "outputId": "535e1331-196a-4702-9e72-119570e706e5",
        "colab": {
          "base_uri": "https://localhost:8080/"
        }
      },
      "execution_count": 18,
      "outputs": [
        {
          "output_type": "stream",
          "name": "stdout",
          "text": [
            "$190 average training error\n"
          ]
        }
      ]
    },
    {
      "cell_type": "code",
      "source": [
        "# Testing the predictions of the model: \n",
        "validation_predictions = rfr.predict(X_test)\n",
        "\n",
        "# Measuring the MAE of the test dataset: \n",
        "validation_e = mean_absolute_error(y_test, validation_predictions)\n",
        "\n",
        "# Print the output\n",
        "print(f\"${validation_e:.0f} average validation error\")"
      ],
      "metadata": {
        "id": "XCRVMxK0FEJI",
        "outputId": "c963541c-285e-47f9-8554-68261cd124a8",
        "colab": {
          "base_uri": "https://localhost:8080/"
        }
      },
      "execution_count": 19,
      "outputs": [
        {
          "output_type": "stream",
          "name": "stdout",
          "text": [
            "$362 average validation error\n"
          ]
        }
      ]
    },
    {
      "cell_type": "code",
      "source": [
        "# What is the 'R' squared of our training model?:\n",
        "r2 = rfr.score(X_train, y_train)\n",
        "print( f\"{r2:.4f}\" )"
      ],
      "metadata": {
        "colab": {
          "base_uri": "https://localhost:8080/"
        },
        "id": "0of85hv_Vk6d",
        "outputId": "e240f79f-56b0-47d6-e3f9-1c0e1a7539bd"
      },
      "execution_count": 21,
      "outputs": [
        {
          "output_type": "stream",
          "name": "stdout",
          "text": [
            "0.9507\n"
          ]
        }
      ]
    },
    {
      "cell_type": "code",
      "source": [
        "# Is the 'Out Of the Bag' score better than the initial  model?: \n",
        "oob_r2 = rfr.oob_score_\n",
        "print(f\"OOB score {r2:.4f}\")"
      ],
      "metadata": {
        "colab": {
          "base_uri": "https://localhost:8080/"
        },
        "id": "grW_k_VAXCKH",
        "outputId": "b8604d86-9a80-4cb8-d1b9-eb35edd9c247"
      },
      "execution_count": 22,
      "outputs": [
        {
          "output_type": "stream",
          "name": "stdout",
          "text": [
            "OOB score 0.9507\n"
          ]
        }
      ]
    },
    {
      "cell_type": "code",
      "execution_count": 23,
      "metadata": {
        "id": "Ibukvu77_4ZQ",
        "outputId": "9a08ba66-ff79-4eaa-9deb-153d253a4556",
        "colab": {
          "base_uri": "https://localhost:8080/"
        }
      },
      "outputs": [
        {
          "output_type": "stream",
          "name": "stdout",
          "text": [
            "Average OOB score over 10 runs: 0.8053\n"
          ]
        }
      ],
      "source": [
        "# Let's create a function to run the OOB score 10 times and calculate the average of it as the final output:\n",
        "\n",
        "oob_scores = []\n",
        "for i in range(10):\n",
        "    oob_scores.append(rfr.oob_score_)\n",
        "\n",
        "avg_oob_r2 = sum(oob_scores) / len(oob_scores)\n",
        "print(f\"Average OOB score over 10 runs: {avg_oob_r2:.4f}\")\n"
      ]
    },
    {
      "cell_type": "markdown",
      "metadata": {
        "id": "v_2MnU9f7qe6"
      },
      "source": [
        "#### Explanation (5 marks)\n",
        "\n",
        "Please provide an explanation and justification for the code submitted in **Part 3** in the context of the overall objective. "
      ]
    },
    {
      "cell_type": "markdown",
      "metadata": {
        "id": "ivuDvBK-7qe7"
      },
      "source": [
        "### Part 4 - Document the problems (35 marks)\n",
        "\n",
        "In this part, please use the table below to document your understanding of all the data issues you discovered. Note that **no code** should be included, as that should be covered in **Part 2**. Also, note that even if one line of code fixed a few problems, you should list each problem separately in the table below, so be sure you have investigated the data properly. For example, if the list `[-6, 5, 0, 50]` represents heights of adults, the -6, 0, and 50 would represent three data issues to be included in the table below, even though one line of code may be able to address all of them. \n",
        "\n",
        "| Data issue discovered | Why is this a problem? | How did you fix it? | Why is this fix appropriate? |\n",
        "| :- | :- | :- | :- | \n",
        "|  example problem 1  | example explanation    | example fix  | example explanation about why this fix is appropriate   |\n",
        "|  example problem 2  | example explanation    | example fix  | example explanation about why this fix is appropriate   |\n"
      ]
    },
    {
      "cell_type": "code",
      "execution_count": 23,
      "metadata": {
        "id": "y5d6hVtI7qe7"
      },
      "outputs": [],
      "source": []
    }
  ],
  "metadata": {
    "kernelspec": {
      "display_name": "Python 3 (ipykernel)",
      "language": "python",
      "name": "python3"
    },
    "language_info": {
      "codemirror_mode": {
        "name": "ipython",
        "version": 3
      },
      "file_extension": ".py",
      "mimetype": "text/x-python",
      "name": "python",
      "nbconvert_exporter": "python",
      "pygments_lexer": "ipython3",
      "version": "3.9.13"
    },
    "colab": {
      "provenance": [],
      "include_colab_link": true
    }
  },
  "nbformat": 4,
  "nbformat_minor": 0
}