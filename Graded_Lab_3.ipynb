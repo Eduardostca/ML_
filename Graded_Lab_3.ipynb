{
  "cells": [
    {
      "cell_type": "markdown",
      "metadata": {
        "id": "view-in-github",
        "colab_type": "text"
      },
      "source": [
        "<a href=\"https://colab.research.google.com/github/educbd/ML_/blob/main/Graded_Lab_3.ipynb\" target=\"_parent\"><img src=\"https://colab.research.google.com/assets/colab-badge.svg\" alt=\"Open In Colab\"/></a>"
      ]
    },
    {
      "cell_type": "markdown",
      "metadata": {
        "id": "UTJXPblkiHyj"
      },
      "source": [
        "## DAB200 -- Graded Lab 3\n",
        "\n",
        "In this lab, you will gain some experience in dealing with missing data and further practice converting non-numeric features in a dataset to numeric.\n",
        "\n",
        "**Target**: to predict `Comb Unadj FE - Conventional Fuel`"
      ]
    },
    {
      "cell_type": "markdown",
      "metadata": {
        "id": "OBlr6Gy2iHyn"
      },
      "source": [
        "**Data set**: make sure you use the data assigned to your group!\n",
        "\n",
        "| Groups | Data set |\n",
        "| :-: | :-: |\n",
        "| 1-3 | veh14_missing.csv |\n",
        "| 4-5 | veh15_missing.csv |\n",
        "| 6-8 | veh16_missing.csv |\n",
        "| 9-11 | veh17_missing.csv |\n",
        "| 12-14 | veh18_missing.csv |\n",
        "| 15-17 | veh19_missing.csv |\n",
        "\n",
        "**Important Notes:**\n",
        "- Use [Chapter 7](https://mlbook.explained.ai/bulldozer-intro.html) of the textbook as a **guide**:\n",
        "     - you only need to use **random forest** models;\n",
        "- Code submitted for this lab should be:\n",
        "     - error free\n",
        "         - to make sure this is the case, before submitting, close all Jupyter notebooks, exit Anaconda, reload the lab notebook and execute all cells\n",
        "     - final code\n",
        "         - this means that I don't want to see every piece of code you try as you work through this lab but only the final code; only the code that fulfills the objective\n",
        "- Use the **out-of-bag score** to evaluate models\n",
        "     - Read Section 5.2 carefully so that you use this method properly\n",
        "     - The oob score that you provide should be the average of 10 runs\n",
        "- Don't make assumptions!\n"
      ]
    },
    {
      "cell_type": "markdown",
      "metadata": {
        "id": "YGPJRHriiHyo"
      },
      "source": [
        "### Part 0\n",
        "\n",
        "Please provide the following information:\n",
        " - Group Number:\n",
        "  - No. 14\n",
        " - Group Members:\n",
        "  - Noushin Asadsamani (0829532)\n",
        "  - Eduardo Chavez Barrientos (0828349)\n",
        "  - Prasanna Kumar Loganathan (0827541)\n",
        "\n",
        "     "
      ]
    },
    {
      "cell_type": "markdown",
      "source": [
        "##### Setting up the notebook:"
      ],
      "metadata": {
        "id": "wul4kokB-3MQ"
      }
    },
    {
      "cell_type": "code",
      "source": [
        "!pip install rfpimp\n",
        "!pip install category_encoders"
      ],
      "metadata": {
        "id": "aVod7lxA1RCO"
      },
      "execution_count": null,
      "outputs": []
    },
    {
      "cell_type": "code",
      "execution_count": 5,
      "metadata": {
        "id": "QADCm-ZuiHyq"
      },
      "outputs": [],
      "source": [
        "import numpy as np\n",
        "import pandas as pd\n",
        "from sklearn.ensemble import *\n",
        "from sklearn.metrics import *\n",
        "from sklearn.model_selection import train_test_split\n",
        "import category_encoders as ce\n",
        "from rfpimp import *"
      ]
    },
    {
      "cell_type": "code",
      "source": [
        "# Defining a function to SNIFF the data:\n",
        "def sniff_mod(df):\n",
        "    with pd.option_context(\"display.max_colwidth\", 20):\n",
        "        info = pd.DataFrame()\n",
        "        info['sample'] = df.iloc[0]\n",
        "        info['data type'] = df.dtypes\n",
        "        info['percent missing'] = df.isnull().sum()*100/len(df)\n",
        "        info['No. unique'] = df.apply(lambda x: len(x.unique()))\n",
        "        info['unique values'] = df.apply(lambda x: x.unique())\n",
        "        return info.sort_values('data type')\n",
        "\n",
        "# Defining a function to EVALUATE the model:\n",
        "def evaluate(X, y, n_estimators=150):\n",
        "    rf = RandomForestRegressor(n_estimators=n_estimators, n_jobs=-1, oob_score=True)\n",
        "    rf.fit(X, y)\n",
        "    oob = rf.oob_score_\n",
        "    n = rfnnodes(rf)\n",
        "    h = np.median(rfmaxdepths(rf))\n",
        "    print(f\"OOB score is {oob:.5f} using {n:,d} tree nodes with {h} median tree depth\")\n",
        "    return rf, oob\n",
        "\n",
        "# Defining a function to show FEATURE IMPORTANCE:\n",
        "def showimp(rf, X, y):\n",
        "    features = list(X.columns)\n",
        "    I = importances(rf, X, y, features=features)\n",
        "    plot_importances(I, color='#4575b4')"
      ],
      "metadata": {
        "id": "rZJ8nzc358sm"
      },
      "execution_count": 12,
      "outputs": []
    },
    {
      "cell_type": "markdown",
      "metadata": {
        "id": "LnYMCP_aiHyp"
      },
      "source": [
        "### Part 1 - Create and evaluate an initial model\n",
        "\n",
        "In this part you should:\n",
        " - use Section 7.3 of the textbook as a guide, except:\n",
        "     - use all of the data; and\n",
        "     - use 150 decision trees in your random forest models\n",
        " - read in the data\n",
        " - isolate all numeric features from original data set\n",
        " - fill in any missing values with 0\n",
        " - create and evaluate a baseline model\n",
        "\n",
        "#### Code (10 marks)"
      ]
    },
    {
      "cell_type": "code",
      "source": [
        "# Read in the data:\n",
        "df_raw = pd.read_csv('https://github.com/educbd/ML_/blob/main/veh18_missing.csv?raw=true')\n",
        "sniff_mod(df_raw)"
      ],
      "metadata": {
        "colab": {
          "base_uri": "https://localhost:8080/",
          "height": 425
        },
        "id": "AYa8D6JCwv0a",
        "outputId": "8ee63fd0-8154-4222-deb2-41013ef094ce"
      },
      "execution_count": 7,
      "outputs": [
        {
          "output_type": "execute_result",
          "data": {
            "text/plain": [
              "                                                                 sample  \\\n",
              "# Cyl                                                                 6   \n",
              "# Gears                                                               6   \n",
              "Intake Valves Per Cyl                                                 2   \n",
              "Exhaust Valves Per Cyl                                                2   \n",
              "Eng Displ                                                           NaN   \n",
              "Comb Unadj FE - Conventional Fuel                                 26.21   \n",
              "Max Ethanol % - Gasoline                                           15.0   \n",
              "Fuel Metering Sys Desc             Multipoint/sequential fuel injection   \n",
              "Air Aspiration Method Desc                          Naturally Aspirated   \n",
              "Trans Desc                                                        XXXXX   \n",
              "Cyl Deact?                                                            N   \n",
              "Var Valve Lift?                                                       N   \n",
              "\n",
              "                                  data type  percent missing  No. unique  \\\n",
              "# Cyl                                 int64         0.000000           8   \n",
              "# Gears                               int64         0.000000           8   \n",
              "Intake Valves Per Cyl                 int64         0.000000           2   \n",
              "Exhaust Valves Per Cyl                int64         0.000000           2   \n",
              "Eng Displ                           float64        29.302326          41   \n",
              "Comb Unadj FE - Conventional Fuel   float64         0.000000        1022   \n",
              "Max Ethanol % - Gasoline            float64         2.945736           4   \n",
              "Fuel Metering Sys Desc               object         0.000000           5   \n",
              "Air Aspiration Method Desc           object         0.000000           4   \n",
              "Trans Desc                           object         0.000000           8   \n",
              "Cyl Deact?                           object        17.751938           4   \n",
              "Var Valve Lift?                      object         0.000000           2   \n",
              "\n",
              "                                                                       unique values  \n",
              "# Cyl                                                    [6, 8, 4, 12, 3, 10, 5, 16]  \n",
              "# Gears                                                    [6, 8, 7, 10, 9, 1, 5, 4]  \n",
              "Intake Valves Per Cyl                                                         [2, 1]  \n",
              "Exhaust Valves Per Cyl                                                        [2, 1]  \n",
              "Eng Displ                          [nan, 6.2, 2.0, 4.4, 3.0, 5.2, 1.6, 2.7, 4.0, ...  \n",
              "Comb Unadj FE - Conventional Fuel  [26.21, 21.8108, 35.6914, 36.7994, 18.9885, 24...  \n",
              "Max Ethanol % - Gasoline                                     [15.0, 10.0, nan, 85.0]  \n",
              "Fuel Metering Sys Desc             [Multipoint/sequential fuel injection, Spark I...  \n",
              "Air Aspiration Method Desc         [Naturally Aspirated, Turbocharged, Supercharg...  \n",
              "Trans Desc                         [XXXXX, Semi-Automatic, Automated Manual, Manu...  \n",
              "Cyl Deact?                                                          [N,    , nan, Y]  \n",
              "Var Valve Lift?                                                               [N, Y]  "
            ],
            "text/html": [
              "\n",
              "  <div id=\"df-e1c0a39e-2615-4231-9434-7fe5872f0e2d\">\n",
              "    <div class=\"colab-df-container\">\n",
              "      <div>\n",
              "<style scoped>\n",
              "    .dataframe tbody tr th:only-of-type {\n",
              "        vertical-align: middle;\n",
              "    }\n",
              "\n",
              "    .dataframe tbody tr th {\n",
              "        vertical-align: top;\n",
              "    }\n",
              "\n",
              "    .dataframe thead th {\n",
              "        text-align: right;\n",
              "    }\n",
              "</style>\n",
              "<table border=\"1\" class=\"dataframe\">\n",
              "  <thead>\n",
              "    <tr style=\"text-align: right;\">\n",
              "      <th></th>\n",
              "      <th>sample</th>\n",
              "      <th>data type</th>\n",
              "      <th>percent missing</th>\n",
              "      <th>No. unique</th>\n",
              "      <th>unique values</th>\n",
              "    </tr>\n",
              "  </thead>\n",
              "  <tbody>\n",
              "    <tr>\n",
              "      <th># Cyl</th>\n",
              "      <td>6</td>\n",
              "      <td>int64</td>\n",
              "      <td>0.000000</td>\n",
              "      <td>8</td>\n",
              "      <td>[6, 8, 4, 12, 3, 10, 5, 16]</td>\n",
              "    </tr>\n",
              "    <tr>\n",
              "      <th># Gears</th>\n",
              "      <td>6</td>\n",
              "      <td>int64</td>\n",
              "      <td>0.000000</td>\n",
              "      <td>8</td>\n",
              "      <td>[6, 8, 7, 10, 9, 1, 5, 4]</td>\n",
              "    </tr>\n",
              "    <tr>\n",
              "      <th>Intake Valves Per Cyl</th>\n",
              "      <td>2</td>\n",
              "      <td>int64</td>\n",
              "      <td>0.000000</td>\n",
              "      <td>2</td>\n",
              "      <td>[2, 1]</td>\n",
              "    </tr>\n",
              "    <tr>\n",
              "      <th>Exhaust Valves Per Cyl</th>\n",
              "      <td>2</td>\n",
              "      <td>int64</td>\n",
              "      <td>0.000000</td>\n",
              "      <td>2</td>\n",
              "      <td>[2, 1]</td>\n",
              "    </tr>\n",
              "    <tr>\n",
              "      <th>Eng Displ</th>\n",
              "      <td>NaN</td>\n",
              "      <td>float64</td>\n",
              "      <td>29.302326</td>\n",
              "      <td>41</td>\n",
              "      <td>[nan, 6.2, 2.0, 4.4, 3.0, 5.2, 1.6, 2.7, 4.0, ...</td>\n",
              "    </tr>\n",
              "    <tr>\n",
              "      <th>Comb Unadj FE - Conventional Fuel</th>\n",
              "      <td>26.21</td>\n",
              "      <td>float64</td>\n",
              "      <td>0.000000</td>\n",
              "      <td>1022</td>\n",
              "      <td>[26.21, 21.8108, 35.6914, 36.7994, 18.9885, 24...</td>\n",
              "    </tr>\n",
              "    <tr>\n",
              "      <th>Max Ethanol % - Gasoline</th>\n",
              "      <td>15.0</td>\n",
              "      <td>float64</td>\n",
              "      <td>2.945736</td>\n",
              "      <td>4</td>\n",
              "      <td>[15.0, 10.0, nan, 85.0]</td>\n",
              "    </tr>\n",
              "    <tr>\n",
              "      <th>Fuel Metering Sys Desc</th>\n",
              "      <td>Multipoint/sequential fuel injection</td>\n",
              "      <td>object</td>\n",
              "      <td>0.000000</td>\n",
              "      <td>5</td>\n",
              "      <td>[Multipoint/sequential fuel injection, Spark I...</td>\n",
              "    </tr>\n",
              "    <tr>\n",
              "      <th>Air Aspiration Method Desc</th>\n",
              "      <td>Naturally Aspirated</td>\n",
              "      <td>object</td>\n",
              "      <td>0.000000</td>\n",
              "      <td>4</td>\n",
              "      <td>[Naturally Aspirated, Turbocharged, Supercharg...</td>\n",
              "    </tr>\n",
              "    <tr>\n",
              "      <th>Trans Desc</th>\n",
              "      <td>XXXXX</td>\n",
              "      <td>object</td>\n",
              "      <td>0.000000</td>\n",
              "      <td>8</td>\n",
              "      <td>[XXXXX, Semi-Automatic, Automated Manual, Manu...</td>\n",
              "    </tr>\n",
              "    <tr>\n",
              "      <th>Cyl Deact?</th>\n",
              "      <td>N</td>\n",
              "      <td>object</td>\n",
              "      <td>17.751938</td>\n",
              "      <td>4</td>\n",
              "      <td>[N,    , nan, Y]</td>\n",
              "    </tr>\n",
              "    <tr>\n",
              "      <th>Var Valve Lift?</th>\n",
              "      <td>N</td>\n",
              "      <td>object</td>\n",
              "      <td>0.000000</td>\n",
              "      <td>2</td>\n",
              "      <td>[N, Y]</td>\n",
              "    </tr>\n",
              "  </tbody>\n",
              "</table>\n",
              "</div>\n",
              "      <button class=\"colab-df-convert\" onclick=\"convertToInteractive('df-e1c0a39e-2615-4231-9434-7fe5872f0e2d')\"\n",
              "              title=\"Convert this dataframe to an interactive table.\"\n",
              "              style=\"display:none;\">\n",
              "        \n",
              "  <svg xmlns=\"http://www.w3.org/2000/svg\" height=\"24px\"viewBox=\"0 0 24 24\"\n",
              "       width=\"24px\">\n",
              "    <path d=\"M0 0h24v24H0V0z\" fill=\"none\"/>\n",
              "    <path d=\"M18.56 5.44l.94 2.06.94-2.06 2.06-.94-2.06-.94-.94-2.06-.94 2.06-2.06.94zm-11 1L8.5 8.5l.94-2.06 2.06-.94-2.06-.94L8.5 2.5l-.94 2.06-2.06.94zm10 10l.94 2.06.94-2.06 2.06-.94-2.06-.94-.94-2.06-.94 2.06-2.06.94z\"/><path d=\"M17.41 7.96l-1.37-1.37c-.4-.4-.92-.59-1.43-.59-.52 0-1.04.2-1.43.59L10.3 9.45l-7.72 7.72c-.78.78-.78 2.05 0 2.83L4 21.41c.39.39.9.59 1.41.59.51 0 1.02-.2 1.41-.59l7.78-7.78 2.81-2.81c.8-.78.8-2.07 0-2.86zM5.41 20L4 18.59l7.72-7.72 1.47 1.35L5.41 20z\"/>\n",
              "  </svg>\n",
              "      </button>\n",
              "      \n",
              "  <style>\n",
              "    .colab-df-container {\n",
              "      display:flex;\n",
              "      flex-wrap:wrap;\n",
              "      gap: 12px;\n",
              "    }\n",
              "\n",
              "    .colab-df-convert {\n",
              "      background-color: #E8F0FE;\n",
              "      border: none;\n",
              "      border-radius: 50%;\n",
              "      cursor: pointer;\n",
              "      display: none;\n",
              "      fill: #1967D2;\n",
              "      height: 32px;\n",
              "      padding: 0 0 0 0;\n",
              "      width: 32px;\n",
              "    }\n",
              "\n",
              "    .colab-df-convert:hover {\n",
              "      background-color: #E2EBFA;\n",
              "      box-shadow: 0px 1px 2px rgba(60, 64, 67, 0.3), 0px 1px 3px 1px rgba(60, 64, 67, 0.15);\n",
              "      fill: #174EA6;\n",
              "    }\n",
              "\n",
              "    [theme=dark] .colab-df-convert {\n",
              "      background-color: #3B4455;\n",
              "      fill: #D2E3FC;\n",
              "    }\n",
              "\n",
              "    [theme=dark] .colab-df-convert:hover {\n",
              "      background-color: #434B5C;\n",
              "      box-shadow: 0px 1px 3px 1px rgba(0, 0, 0, 0.15);\n",
              "      filter: drop-shadow(0px 1px 2px rgba(0, 0, 0, 0.3));\n",
              "      fill: #FFFFFF;\n",
              "    }\n",
              "  </style>\n",
              "\n",
              "      <script>\n",
              "        const buttonEl =\n",
              "          document.querySelector('#df-e1c0a39e-2615-4231-9434-7fe5872f0e2d button.colab-df-convert');\n",
              "        buttonEl.style.display =\n",
              "          google.colab.kernel.accessAllowed ? 'block' : 'none';\n",
              "\n",
              "        async function convertToInteractive(key) {\n",
              "          const element = document.querySelector('#df-e1c0a39e-2615-4231-9434-7fe5872f0e2d');\n",
              "          const dataTable =\n",
              "            await google.colab.kernel.invokeFunction('convertToInteractive',\n",
              "                                                     [key], {});\n",
              "          if (!dataTable) return;\n",
              "\n",
              "          const docLinkHtml = 'Like what you see? Visit the ' +\n",
              "            '<a target=\"_blank\" href=https://colab.research.google.com/notebooks/data_table.ipynb>data table notebook</a>'\n",
              "            + ' to learn more about interactive tables.';\n",
              "          element.innerHTML = '';\n",
              "          dataTable['output_type'] = 'display_data';\n",
              "          await google.colab.output.renderOutput(dataTable, element);\n",
              "          const docLink = document.createElement('div');\n",
              "          docLink.innerHTML = docLinkHtml;\n",
              "          element.appendChild(docLink);\n",
              "        }\n",
              "      </script>\n",
              "    </div>\n",
              "  </div>\n",
              "  "
            ]
          },
          "metadata": {},
          "execution_count": 7
        }
      ]
    },
    {
      "cell_type": "code",
      "source": [
        "# Isolate all numeric features from original dataset:\n",
        "df = df_raw.copy()\n",
        "df = df.select_dtypes(include='number')"
      ],
      "metadata": {
        "id": "DY_EHDbFxfUx"
      },
      "execution_count": 8,
      "outputs": []
    },
    {
      "cell_type": "code",
      "source": [
        "# Fill in any missing values with 0:\n",
        "df = df.replace(np.nan, 0)"
      ],
      "metadata": {
        "id": "b4XXItGkxre6"
      },
      "execution_count": 9,
      "outputs": []
    },
    {
      "cell_type": "code",
      "source": [
        "# Features X1 and target y1\n",
        "X1 = df.drop('Comb Unadj FE - Conventional Fuel', axis=1)\n",
        "y1 = df['Comb Unadj FE - Conventional Fuel']"
      ],
      "metadata": {
        "id": "nSn09divyNn9"
      },
      "execution_count": 10,
      "outputs": []
    },
    {
      "cell_type": "code",
      "source": [
        "# Create and evaluate a baseline model:\n",
        "oob_scores1 = []\n",
        "r2_1 = []\n",
        "\n",
        "for i in range(10):\n",
        "    model_1 = RandomForestRegressor(n_estimators = 150, n_jobs = -1, oob_score = True)\n",
        "    X1_train, X1_test, y1_train, y1_test = train_test_split(X1, y1, test_size = 0.2)\n",
        "    model_1.fit(X1_train, y1_train)\n",
        "    oob_scores1.append(model_1.oob_score_)\n",
        "    r2_1.append(model_1.score(X1_train, y1_train))\n",
        "\n",
        "avg_oob_scores_1 = sum(oob_scores1) / len(oob_scores1)\n",
        "avg_r2_1 = sum(r2_1) / len(r2_1)\n",
        "print(f\"Average of oob_score over 10 runs for model_1 is: {avg_oob_scores_1:.4f}\")\n",
        "print(f\"Average of R^2 over 10 runs for model_1 is: {avg_r2_1:.4f}\")"
      ],
      "metadata": {
        "colab": {
          "base_uri": "https://localhost:8080/"
        },
        "id": "3nwxy7ZdxrlQ",
        "outputId": "486b3629-753d-42ac-901b-2502c1ea96a3"
      },
      "execution_count": 11,
      "outputs": [
        {
          "output_type": "stream",
          "name": "stdout",
          "text": [
            "Average of oob_score over 10 runs for model_1 is: 0.6726\n",
            "Average of R^2 over 10 runs for model_1 is: 0.7524\n"
          ]
        }
      ]
    },
    {
      "cell_type": "code",
      "source": [
        "# Ploting the feature importance:\n",
        "showimp(model_1, X1, y1)"
      ],
      "metadata": {
        "colab": {
          "base_uri": "https://localhost:8080/",
          "height": 157
        },
        "id": "5qWrgFiNAh6Z",
        "outputId": "e4401d1f-549b-4f8d-c46b-1a5ad7328d15"
      },
      "execution_count": 14,
      "outputs": [
        {
          "output_type": "display_data",
          "data": {
            "text/plain": [
              "<Figure size 400x150 with 1 Axes>"
            ],
            "image/png": "[encoded data removed]"
          },
          "metadata": {}
        }
      ]
    },
    {
      "cell_type": "markdown",
      "metadata": {
        "id": "OZN8MmS0iHyr"
      },
      "source": [
        "### Part 2 - Normalize missing values\n",
        "\n",
        "In this part you should:\n",
        " - use Section 7.4 of the textbook as a guide\n",
        " - convert **all** representations of missing data to a **single** representation\n",
        "\n",
        "#### Code (15 marks)"
      ]
    },
    {
      "cell_type": "code",
      "execution_count": 45,
      "metadata": {
        "colab": {
          "base_uri": "https://localhost:8080/",
          "height": 269
        },
        "id": "lzwO-K9iiHys",
        "outputId": "c8bf4a97-95f9-49cb-a867-a664ef2be102"
      },
      "outputs": [
        {
          "output_type": "execute_result",
          "data": {
            "text/plain": [
              "                                   sample data type  percent missing  \\\n",
              "# Cyl                                6.00     int64              0.0   \n",
              "# Gears                              6.00     int64              0.0   \n",
              "Intake Valves Per Cyl                2.00     int64              0.0   \n",
              "Exhaust Valves Per Cyl               2.00     int64              0.0   \n",
              "Eng Displ                            0.00   float64              0.0   \n",
              "Comb Unadj FE - Conventional Fuel   26.21   float64              0.0   \n",
              "Max Ethanol % - Gasoline            15.00   float64              0.0   \n",
              "\n",
              "                                   No. unique  \\\n",
              "# Cyl                                       8   \n",
              "# Gears                                     8   \n",
              "Intake Valves Per Cyl                       2   \n",
              "Exhaust Valves Per Cyl                      2   \n",
              "Eng Displ                                  41   \n",
              "Comb Unadj FE - Conventional Fuel        1022   \n",
              "Max Ethanol % - Gasoline                    4   \n",
              "\n",
              "                                                                       unique values  \n",
              "# Cyl                                                    [6, 8, 4, 12, 3, 10, 5, 16]  \n",
              "# Gears                                                    [6, 8, 7, 10, 9, 1, 5, 4]  \n",
              "Intake Valves Per Cyl                                                         [2, 1]  \n",
              "Exhaust Valves Per Cyl                                                        [2, 1]  \n",
              "Eng Displ                          [0.0, 6.2, 2.0, 4.4, 3.0, 5.2, 1.6, 2.7, 4.0, ...  \n",
              "Comb Unadj FE - Conventional Fuel  [26.21, 21.8108, 35.6914, 36.7994, 18.9885, 24...  \n",
              "Max Ethanol % - Gasoline                                     [15.0, 10.0, 0.0, 85.0]  "
            ],
            "text/html": [
              "\n",
              "  <div id=\"df-3e220a5d-91c1-4f2a-9e72-77b0999f15ab\">\n",
              "    <div class=\"colab-df-container\">\n",
              "      <div>\n",
              "<style scoped>\n",
              "    .dataframe tbody tr th:only-of-type {\n",
              "        vertical-align: middle;\n",
              "    }\n",
              "\n",
              "    .dataframe tbody tr th {\n",
              "        vertical-align: top;\n",
              "    }\n",
              "\n",
              "    .dataframe thead th {\n",
              "        text-align: right;\n",
              "    }\n",
              "</style>\n",
              "<table border=\"1\" class=\"dataframe\">\n",
              "  <thead>\n",
              "    <tr style=\"text-align: right;\">\n",
              "      <th></th>\n",
              "      <th>sample</th>\n",
              "      <th>data type</th>\n",
              "      <th>percent missing</th>\n",
              "      <th>No. unique</th>\n",
              "      <th>unique values</th>\n",
              "    </tr>\n",
              "  </thead>\n",
              "  <tbody>\n",
              "    <tr>\n",
              "      <th># Cyl</th>\n",
              "      <td>6.00</td>\n",
              "      <td>int64</td>\n",
              "      <td>0.0</td>\n",
              "      <td>8</td>\n",
              "      <td>[6, 8, 4, 12, 3, 10, 5, 16]</td>\n",
              "    </tr>\n",
              "    <tr>\n",
              "      <th># Gears</th>\n",
              "      <td>6.00</td>\n",
              "      <td>int64</td>\n",
              "      <td>0.0</td>\n",
              "      <td>8</td>\n",
              "      <td>[6, 8, 7, 10, 9, 1, 5, 4]</td>\n",
              "    </tr>\n",
              "    <tr>\n",
              "      <th>Intake Valves Per Cyl</th>\n",
              "      <td>2.00</td>\n",
              "      <td>int64</td>\n",
              "      <td>0.0</td>\n",
              "      <td>2</td>\n",
              "      <td>[2, 1]</td>\n",
              "    </tr>\n",
              "    <tr>\n",
              "      <th>Exhaust Valves Per Cyl</th>\n",
              "      <td>2.00</td>\n",
              "      <td>int64</td>\n",
              "      <td>0.0</td>\n",
              "      <td>2</td>\n",
              "      <td>[2, 1]</td>\n",
              "    </tr>\n",
              "    <tr>\n",
              "      <th>Eng Displ</th>\n",
              "      <td>0.00</td>\n",
              "      <td>float64</td>\n",
              "      <td>0.0</td>\n",
              "      <td>41</td>\n",
              "      <td>[0.0, 6.2, 2.0, 4.4, 3.0, 5.2, 1.6, 2.7, 4.0, ...</td>\n",
              "    </tr>\n",
              "    <tr>\n",
              "      <th>Comb Unadj FE - Conventional Fuel</th>\n",
              "      <td>26.21</td>\n",
              "      <td>float64</td>\n",
              "      <td>0.0</td>\n",
              "      <td>1022</td>\n",
              "      <td>[26.21, 21.8108, 35.6914, 36.7994, 18.9885, 24...</td>\n",
              "    </tr>\n",
              "    <tr>\n",
              "      <th>Max Ethanol % - Gasoline</th>\n",
              "      <td>15.00</td>\n",
              "      <td>float64</td>\n",
              "      <td>0.0</td>\n",
              "      <td>4</td>\n",
              "      <td>[15.0, 10.0, 0.0, 85.0]</td>\n",
              "    </tr>\n",
              "  </tbody>\n",
              "</table>\n",
              "</div>\n",
              "      <button class=\"colab-df-convert\" onclick=\"convertToInteractive('df-3e220a5d-91c1-4f2a-9e72-77b0999f15ab')\"\n",
              "              title=\"Convert this dataframe to an interactive table.\"\n",
              "              style=\"display:none;\">\n",
              "        \n",
              "  <svg xmlns=\"http://www.w3.org/2000/svg\" height=\"24px\"viewBox=\"0 0 24 24\"\n",
              "       width=\"24px\">\n",
              "    <path d=\"M0 0h24v24H0V0z\" fill=\"none\"/>\n",
              "    <path d=\"M18.56 5.44l.94 2.06.94-2.06 2.06-.94-2.06-.94-.94-2.06-.94 2.06-2.06.94zm-11 1L8.5 8.5l.94-2.06 2.06-.94-2.06-.94L8.5 2.5l-.94 2.06-2.06.94zm10 10l.94 2.06.94-2.06 2.06-.94-2.06-.94-.94-2.06-.94 2.06-2.06.94z\"/><path d=\"M17.41 7.96l-1.37-1.37c-.4-.4-.92-.59-1.43-.59-.52 0-1.04.2-1.43.59L10.3 9.45l-7.72 7.72c-.78.78-.78 2.05 0 2.83L4 21.41c.39.39.9.59 1.41.59.51 0 1.02-.2 1.41-.59l7.78-7.78 2.81-2.81c.8-.78.8-2.07 0-2.86zM5.41 20L4 18.59l7.72-7.72 1.47 1.35L5.41 20z\"/>\n",
              "  </svg>\n",
              "      </button>\n",
              "      \n",
              "  <style>\n",
              "    .colab-df-container {\n",
              "      display:flex;\n",
              "      flex-wrap:wrap;\n",
              "      gap: 12px;\n",
              "    }\n",
              "\n",
              "    .colab-df-convert {\n",
              "      background-color: #E8F0FE;\n",
              "      border: none;\n",
              "      border-radius: 50%;\n",
              "      cursor: pointer;\n",
              "      display: none;\n",
              "      fill: #1967D2;\n",
              "      height: 32px;\n",
              "      padding: 0 0 0 0;\n",
              "      width: 32px;\n",
              "    }\n",
              "\n",
              "    .colab-df-convert:hover {\n",
              "      background-color: #E2EBFA;\n",
              "      box-shadow: 0px 1px 2px rgba(60, 64, 67, 0.3), 0px 1px 3px 1px rgba(60, 64, 67, 0.15);\n",
              "      fill: #174EA6;\n",
              "    }\n",
              "\n",
              "    [theme=dark] .colab-df-convert {\n",
              "      background-color: #3B4455;\n",
              "      fill: #D2E3FC;\n",
              "    }\n",
              "\n",
              "    [theme=dark] .colab-df-convert:hover {\n",
              "      background-color: #434B5C;\n",
              "      box-shadow: 0px 1px 3px 1px rgba(0, 0, 0, 0.15);\n",
              "      filter: drop-shadow(0px 1px 2px rgba(0, 0, 0, 0.3));\n",
              "      fill: #FFFFFF;\n",
              "    }\n",
              "  </style>\n",
              "\n",
              "      <script>\n",
              "        const buttonEl =\n",
              "          document.querySelector('#df-3e220a5d-91c1-4f2a-9e72-77b0999f15ab button.colab-df-convert');\n",
              "        buttonEl.style.display =\n",
              "          google.colab.kernel.accessAllowed ? 'block' : 'none';\n",
              "\n",
              "        async function convertToInteractive(key) {\n",
              "          const element = document.querySelector('#df-3e220a5d-91c1-4f2a-9e72-77b0999f15ab');\n",
              "          const dataTable =\n",
              "            await google.colab.kernel.invokeFunction('convertToInteractive',\n",
              "                                                     [key], {});\n",
              "          if (!dataTable) return;\n",
              "\n",
              "          const docLinkHtml = 'Like what you see? Visit the ' +\n",
              "            '<a target=\"_blank\" href=https://colab.research.google.com/notebooks/data_table.ipynb>data table notebook</a>'\n",
              "            + ' to learn more about interactive tables.';\n",
              "          element.innerHTML = '';\n",
              "          dataTable['output_type'] = 'display_data';\n",
              "          await google.colab.output.renderOutput(dataTable, element);\n",
              "          const docLink = document.createElement('div');\n",
              "          docLink.innerHTML = docLinkHtml;\n",
              "          element.appendChild(docLink);\n",
              "        }\n",
              "      </script>\n",
              "    </div>\n",
              "  </div>\n",
              "  "
            ]
          },
          "metadata": {},
          "execution_count": 45
        }
      ],
      "source": [
        "# Taking a look to the new data\n",
        "sniff_mod(df)"
      ]
    },
    {
      "cell_type": "markdown",
      "metadata": {
        "id": "IF-qMlgCiHys"
      },
      "source": [
        "#### Question (5 marks)\n",
        "\n",
        "Note here all the different ways missing data was represented in the data.   "
      ]
    },
    {
      "cell_type": "markdown",
      "metadata": {
        "id": "TEod7YZliHyt"
      },
      "source": [
        "**Enter your answer here:**"
      ]
    },
    {
      "cell_type": "markdown",
      "metadata": {
        "id": "_PXq0BIaiHyt"
      },
      "source": [
        "### Part 3 - Categorical features\n",
        "\n",
        "In this part you should:\n",
        " - use Section 7.5.1 as a guide\n",
        " - only use ordinal encoding\n",
        " - convert **all** non-numeric features to numeric\n",
        " - handle any missing values\n",
        "\n",
        "#### Code (25 marks)"
      ]
    },
    {
      "cell_type": "code",
      "execution_count": null,
      "metadata": {
        "id": "1o7LEvC0iHyu"
      },
      "outputs": [],
      "source": []
    },
    {
      "cell_type": "markdown",
      "metadata": {
        "id": "MR1p70XgiHyu"
      },
      "source": [
        "### Part 4 - Numeric features\n",
        "\n",
        "In this part you should:\n",
        " - use Section 7.5.2 as a guide\n",
        " - handle any missing values\n",
        "\n",
        "#### Code (30 marks)"
      ]
    },
    {
      "cell_type": "code",
      "execution_count": null,
      "metadata": {
        "id": "HhDJ-MUTiHyv"
      },
      "outputs": [],
      "source": []
    },
    {
      "cell_type": "markdown",
      "metadata": {
        "id": "KPE9c99viHyv"
      },
      "source": [
        "### Part 5 - Create and evaluate a final model\n",
        "\n",
        "In this part you should:\n",
        " - create and evaluate a model using all the features after processing them in Parts 2, 3, and 4 above\n",
        "\n",
        "#### Code (10 marks)"
      ]
    },
    {
      "cell_type": "code",
      "execution_count": null,
      "metadata": {
        "id": "zyxPoGfkiHyv"
      },
      "outputs": [],
      "source": []
    },
    {
      "cell_type": "markdown",
      "metadata": {
        "id": "5N_culw-iHyw"
      },
      "source": [
        "#### Questions (5 marks)\n",
        "\n",
        "Provide answers to the following:\n",
        " 1. calculate the percent difference between the results of Part 1 and Part 5 (make sure you are using the correct formula for percent difference)\n",
        " 2. based on the percent difference, state whether or not the results of Part 5 are an improvement over the results of Part 1"
      ]
    },
    {
      "cell_type": "markdown",
      "metadata": {
        "id": "s3Rq1kmDiHyw"
      },
      "source": [
        "**Enter your answers here:**"
      ]
    }
  ],
  "metadata": {
    "kernelspec": {
      "display_name": "Python 3 (ipykernel)",
      "language": "python",
      "name": "python3"
    },
    "language_info": {
      "codemirror_mode": {
        "name": "ipython",
        "version": 3
      },
      "file_extension": ".py",
      "mimetype": "text/x-python",
      "name": "python",
      "nbconvert_exporter": "python",
      "pygments_lexer": "ipython3",
      "version": "3.9.13"
    },
    "colab": {
      "provenance": [],
      "collapsed_sections": [
        "wul4kokB-3MQ"
      ],
      "include_colab_link": true
    }
  },
  "nbformat": 4,
  "nbformat_minor": 0
}